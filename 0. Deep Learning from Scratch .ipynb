{
 "cells": [
  {
   "cell_type": "markdown",
   "metadata": {},
   "source": [
    "# Deep Learning from Scratch"
   ]
  },
  {
   "cell_type": "markdown",
   "metadata": {},
   "source": [
    "> This directory contains Jupyter's notebook-based documentation for the **Deep Learning from Scractch** course.\n",
    "\n",
    "\n",
    "Deep learning is one of the fastest growing areas of machine learning and a hot topic in both academia and industry. This course will cover the basics of deep learning by using a hands-on approach.\n",
    "\n",
    "### Approach\n",
    "We will illustrate all contents with Jupyter notebooks, a web application that allows you to create and share documents that contain live code, equations, visualizations and explanatory text.\n",
    "\n",
    "### Target Audience\n",
    "This course is targeted for developers, data scientists and researchers that have a basic knowledge of machine learning.\n",
    "\n",
    "### Prerequisites\n",
    "Minimal experience on Python programming, basic knowledge of calculus, linear algebra, and probability theory. Attendees are expected to bring their own laptops for the hands-on practical work.\n",
    "\n",
    "### Who\n",
    "This course is organized by the DataScience@UB Group (http://datascience.barcelona/)\n",
    "\n",
    "INSTRUCTORS: Oriol Pujol, Associate Professor at UB. Santi Seguí, Lecturer at UB. Jordi Vitrià. Full Professor at UB.\n",
    "\n",
    "### Why\n",
    "By the end of this course, you will be able to:\n",
    "+ Describe how a neural network works and combine different types of layers and activation functions.\n",
    "+ Describe how these models can be applied in computer vision, text analytics, etc.\n",
    "+ Develop your own models in Tensorflow.\n",
    "\n",
    "## Topics\n",
    "\n",
    "* Basic Concepts \n",
    "* Tensorflow & Keras\n",
    "* Convolutional Neural Networks\n",
    "* Recurrent Neural Networks\n",
    "* Unsupervised Learning\n",
    "* Advanced Applications"
   ]
  },
  {
   "cell_type": "code",
   "execution_count": 3,
   "metadata": {},
   "outputs": [
    {
     "name": "stdout",
     "output_type": "stream",
     "text": [
      "keras: 2.1.3\n",
      "tensorflow:  1.5.0\n"
     ]
    }
   ],
   "source": [
    "import keras\n",
    "import tensorflow\n",
    "print('keras:', keras.__version__)\n",
    "print('tensorflow: ', tensorflow.__version__)"
   ]
  },
  {
   "cell_type": "code",
   "execution_count": null,
   "metadata": {},
   "outputs": [],
   "source": []
  }
 ],
 "metadata": {
  "anaconda-cloud": {},
  "kernelspec": {
   "display_name": "Python 3",
   "language": "python",
   "name": "python3"
  },
  "language_info": {
   "codemirror_mode": {
    "name": "ipython",
    "version": 3
   },
   "file_extension": ".py",
   "mimetype": "text/x-python",
   "name": "python",
   "nbconvert_exporter": "python",
   "pygments_lexer": "ipython3",
   "version": "3.5.2"
  }
 },
 "nbformat": 4,
 "nbformat_minor": 1
}
