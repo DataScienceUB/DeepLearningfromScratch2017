{
  "nbformat": 4,
  "nbformat_minor": 0,
  "metadata": {
    "colab": {
      "name": "3.5_Linear_Regression_TensorBoard.ipynb",
      "version": "0.3.2",
      "views": {},
      "default_view": {},
      "provenance": [
        {
          "file_id": "https://github.com/DataScienceUB/DeepLearningfromScratch2018/blob/master/3.5%20Linear%20Regression%20-%20TensorBoard.ipynb",
          "timestamp": 1528921790660
        }
      ],
      "collapsed_sections": []
    },
    "kernelspec": {
      "display_name": "Python 2",
      "language": "python",
      "name": "python2"
    }
  },
  "cells": [
    {
      "metadata": {
        "id": "vyglFQhCsr7T",
        "colab_type": "text"
      },
      "cell_type": "markdown",
      "source": [
        "# A linear regression learning algorithm example using TensorFlow library."
      ]
    },
    {
      "metadata": {
        "id": "Zww9Rajn1-Pa",
        "colab_type": "text"
      },
      "cell_type": "markdown",
      "source": [
        "# How to use TensorBoard in Colab\n",
        "## Download and unzip ngrok"
      ]
    },
    {
      "metadata": {
        "id": "pSWYTvibwE-M",
        "colab_type": "code",
        "colab": {
          "autoexec": {
            "startup": false,
            "wait_interval": 0
          },
          "base_uri": "https://localhost:8080/",
          "height": 238
        },
        "outputId": "db947d91-cfd3-42f7-b16c-954a97262494",
        "executionInfo": {
          "status": "ok",
          "timestamp": 1528923127700,
          "user_tz": -120,
          "elapsed": 5496,
          "user": {
            "displayName": "Santi Segui",
            "photoUrl": "//lh3.googleusercontent.com/-uSLYDDb2N50/AAAAAAAAAAI/AAAAAAAAPbw/abTkAE5dwLo/s50-c-k-no/photo.jpg",
            "userId": "113371974253879421657"
          }
        }
      },
      "cell_type": "code",
      "source": [
        "! wget https://bin.equinox.io/c/4VmDzA7iaHb/ngrok-stable-linux-amd64.zip\n",
        "! unzip ngrok-stable-linux-amd64.zip --y"
      ],
      "execution_count": 1,
      "outputs": [
        {
          "output_type": "stream",
          "text": [
            "--2018-06-13 20:52:05--  https://bin.equinox.io/c/4VmDzA7iaHb/ngrok-stable-linux-amd64.zip\r\n",
            "Resolving bin.equinox.io (bin.equinox.io)... 34.224.230.241, 34.225.24.230, 34.231.150.116, ...\n",
            "Connecting to bin.equinox.io (bin.equinox.io)|34.224.230.241|:443... connected.\n",
            "HTTP request sent, awaiting response... 200 OK\n",
            "Length: 5363700 (5.1M) [application/octet-stream]\n",
            "Saving to: ‘ngrok-stable-linux-amd64.zip.13’\n",
            "\n",
            "ngrok-stable-linux- 100%[===================>]   5.11M  10.1MB/s    in 0.5s    \n",
            "\n",
            "2018-06-13 20:52:06 (10.1 MB/s) - ‘ngrok-stable-linux-amd64.zip.13’ saved [5363700/5363700]\n",
            "\n",
            "Archive:  ngrok-stable-linux-amd64.zip\n",
            "caution: filename not matched:  --y\n"
          ],
          "name": "stdout"
        }
      ]
    },
    {
      "metadata": {
        "id": "WBOAhm082BDQ",
        "colab_type": "text"
      },
      "cell_type": "markdown",
      "source": [
        "##Run TensorBoard\n"
      ]
    },
    {
      "metadata": {
        "id": "XwMzI6iMwDsx",
        "colab_type": "code",
        "colab": {
          "autoexec": {
            "startup": false,
            "wait_interval": 0
          }
        }
      },
      "cell_type": "code",
      "source": [
        "LOG_DIR = './log'\n",
        "get_ipython().system_raw(\n",
        "    'tensorboard --logdir {} --host 0.0.0.0 --port 6006 &'\n",
        "    .format(LOG_DIR)\n",
        ")"
      ],
      "execution_count": 0,
      "outputs": []
    },
    {
      "metadata": {
        "id": "iSEzPmdb2NCT",
        "colab_type": "text"
      },
      "cell_type": "markdown",
      "source": [
        "##Run ngrok"
      ]
    },
    {
      "metadata": {
        "id": "x77POjm22MrL",
        "colab_type": "code",
        "colab": {
          "autoexec": {
            "startup": false,
            "wait_interval": 0
          }
        }
      },
      "cell_type": "code",
      "source": [
        "get_ipython().system_raw('./ngrok http 6006 &')"
      ],
      "execution_count": 0,
      "outputs": []
    },
    {
      "metadata": {
        "id": "7ux40CVf2iiD",
        "colab_type": "text"
      },
      "cell_type": "markdown",
      "source": [
        "##Get URL"
      ]
    },
    {
      "metadata": {
        "id": "8DWb3Os32RQ0",
        "colab_type": "code",
        "colab": {
          "autoexec": {
            "startup": false,
            "wait_interval": 0
          },
          "base_uri": "https://localhost:8080/",
          "height": 34
        },
        "outputId": "11b4cbd8-4b6f-4a2f-f197-b23a92116632",
        "executionInfo": {
          "status": "ok",
          "timestamp": 1528923130810,
          "user_tz": -120,
          "elapsed": 1893,
          "user": {
            "displayName": "Santi Segui",
            "photoUrl": "//lh3.googleusercontent.com/-uSLYDDb2N50/AAAAAAAAAAI/AAAAAAAAPbw/abTkAE5dwLo/s50-c-k-no/photo.jpg",
            "userId": "113371974253879421657"
          }
        }
      },
      "cell_type": "code",
      "source": [
        "! curl -s http://localhost:4040/api/tunnels | python3 -c \\\n",
        "    \"import sys, json; print(json.load(sys.stdin)['tunnels'][0]['public_url'])\""
      ],
      "execution_count": 4,
      "outputs": [
        {
          "output_type": "stream",
          "text": [
            "http://cd6f37bf.ngrok.io\r\n"
          ],
          "name": "stdout"
        }
      ]
    },
    {
      "metadata": {
        "id": "SSnjNtXw2RaU",
        "colab_type": "text"
      },
      "cell_type": "markdown",
      "source": [
        "# Train the model with tensorboard summaries"
      ]
    },
    {
      "metadata": {
        "id": "hUU81dbBsr7V",
        "colab_type": "text"
      },
      "cell_type": "markdown",
      "source": [
        "Linear regression model is one of the simplest regression models. It assumes linear relationship between X and Y. The output equation is defined as follows:\n",
        "$$\\hat{y} = WX + b$$\n"
      ]
    },
    {
      "metadata": {
        "id": "QG19FUtusr7W",
        "colab_type": "code",
        "colab": {
          "autoexec": {
            "startup": false,
            "wait_interval": 0
          }
        }
      },
      "cell_type": "code",
      "source": [
        "import numpy as np\n",
        "import matplotlib.pyplot as plt\n",
        "import pandas as pd\n",
        "%matplotlib inline"
      ],
      "execution_count": 0,
      "outputs": []
    },
    {
      "metadata": {
        "id": "WlAioeH7sr7Y",
        "colab_type": "code",
        "colab": {
          "autoexec": {
            "startup": false,
            "wait_interval": 0
          }
        }
      },
      "cell_type": "code",
      "source": [
        "#  Training Parameters\n",
        "learning_rate = 0.001\n",
        "training_epochs = 10000\n",
        "display_step = 200"
      ],
      "execution_count": 0,
      "outputs": []
    },
    {
      "metadata": {
        "id": "pq4RH82hsr7b",
        "colab_type": "code",
        "colab": {
          "autoexec": {
            "startup": false,
            "wait_interval": 0
          },
          "base_uri": "https://localhost:8080/",
          "height": 299
        },
        "outputId": "7a0f08d9-a259-4eba-ff94-d79b20e7879a",
        "executionInfo": {
          "status": "ok",
          "timestamp": 1528923133423,
          "user_tz": -120,
          "elapsed": 889,
          "user": {
            "displayName": "Santi Segui",
            "photoUrl": "//lh3.googleusercontent.com/-uSLYDDb2N50/AAAAAAAAAAI/AAAAAAAAPbw/abTkAE5dwLo/s50-c-k-no/photo.jpg",
            "userId": "113371974253879421657"
          }
        }
      },
      "cell_type": "code",
      "source": [
        "# Load data. Advertising dataset from \"An Introduction to Statistical Learning\",\n",
        "# textbook by Gareth James, Robert Tibshirani, and Trevor Hastie \n",
        "import numpy as np\n",
        "data = pd.read_csv('https://raw.githubusercontent.com/DataScienceUB/DeepLearningfromScratch2017/master/dataset/Advertising.csv',index_col=0, delimiter=',')\n",
        "train_X = data[['TV']].values \n",
        "\n",
        "train_Y = data.Sales.values \n",
        "train_Y = train_Y[:,np.newaxis]\n",
        "\n",
        "n_samples = train_X.shape[0]\n",
        "print n_samples\n",
        "print train_X.shape, train_Y.shape\n",
        "plt.plot(train_X, train_Y, 'ro', label='Original data')\n",
        "plt.show()"
      ],
      "execution_count": 7,
      "outputs": [
        {
          "output_type": "stream",
          "text": [
            "200\n",
            "(200, 1) (200, 1)\n"
          ],
          "name": "stdout"
        },
        {
          "output_type": "display_data",
          "data": {
            "image/png": "[encoded data removed]",
            "text/plain": [
              "<matplotlib.figure.Figure at 0x7fb8f6b70850>"
            ]
          },
          "metadata": {
            "tags": []
          }
        }
      ]
    },
    {
      "metadata": {
        "id": "IgJIt0VJsr7e",
        "colab_type": "code",
        "colab": {
          "autoexec": {
            "startup": false,
            "wait_interval": 0
          }
        }
      },
      "cell_type": "code",
      "source": [
        "import tensorflow as tf\n",
        "# Define tf Graph Inputs\n",
        "X = tf.placeholder(\"float\",[None,1])\n",
        "y = tf.placeholder(\"float\",[None,1])\n",
        "\n",
        "# Create Model variables \n",
        "# Set model weights\n",
        "W = tf.Variable(np.random.randn(), name=\"weight\")\n",
        "b = tf.Variable(np.random.randn(), name=\"bias\")\n",
        "\n",
        "# Construct a linear model\n",
        "y_pred = tf.add(tf.multiply(X, W), b)"
      ],
      "execution_count": 0,
      "outputs": []
    },
    {
      "metadata": {
        "id": "M9BKUh6tsr7g",
        "colab_type": "code",
        "colab": {
          "autoexec": {
            "startup": false,
            "wait_interval": 0
          }
        }
      },
      "cell_type": "code",
      "source": [
        "# Minimize the squared errors\n",
        "cost = tf.reduce_sum(tf.pow(y_pred-y,2))/(2*n_samples) #L2 loss\n",
        "\n",
        "# Define the optimizer\n",
        "optimizer = tf.train.AdamOptimizer(learning_rate).minimize(cost) #Gradient descent"
      ],
      "execution_count": 0,
      "outputs": []
    },
    {
      "metadata": {
        "id": "QluV2g93sr7i",
        "colab_type": "code",
        "colab": {
          "autoexec": {
            "startup": false,
            "wait_interval": 0
          }
        }
      },
      "cell_type": "code",
      "source": [
        "# Add summary ops to collect data\n",
        "w_hist = tf.summary.histogram(\"weights\", W)\n",
        "b_hist = tf.summary.histogram(\"biases\", b)\n",
        "y_hist = tf.summary.histogram(\"y\", y_pred)\n",
        "\n",
        "cost_summary = tf.summary.scalar(\"cost\", cost)\n",
        "\n",
        "# Merge all the summaries and write them out to /tmp/linear_regression\n",
        "merged = tf.summary.merge_all()\n"
      ],
      "execution_count": 0,
      "outputs": []
    },
    {
      "metadata": {
        "id": "mJ2q-_xKsr7m",
        "colab_type": "code",
        "colab": {
          "autoexec": {
            "startup": false,
            "wait_interval": 0
          },
          "base_uri": "https://localhost:8080/",
          "height": 1149
        },
        "outputId": "55f4d206-5a79-427f-c966-f4e854e19030",
        "executionInfo": {
          "status": "ok",
          "timestamp": 1528923147952,
          "user_tz": -120,
          "elapsed": 12231,
          "user": {
            "displayName": "Santi Segui",
            "photoUrl": "//lh3.googleusercontent.com/-uSLYDDb2N50/AAAAAAAAAAI/AAAAAAAAPbw/abTkAE5dwLo/s50-c-k-no/photo.jpg",
            "userId": "113371974253879421657"
          }
        }
      },
      "cell_type": "code",
      "source": [
        "import time\n",
        "\n",
        "# Initializing the variables\n",
        "init = tf.global_variables_initializer()\n",
        "# Launch the graph\n",
        "with tf.Session() as sess:\n",
        "    summary_writer = tf.summary.FileWriter(LOG_DIR, graph=tf.get_default_graph())\n",
        "    \n",
        "    sess.run(init)\n",
        "\n",
        "    # Fit all training data\n",
        "    for epoch in range(training_epochs):\n",
        "        _,_,summary = sess.run([optimizer, cost, merged], feed_dict={X: train_X, y: train_Y}) \n",
        "        summary_writer.add_summary(summary, epoch)\n",
        "        #Display logs per epoch step\n",
        "        if epoch % display_step == 0:\n",
        "            print \"Epoch:\", '%04d' % (epoch+1), \"cost=\", \\\n",
        "                \"{:.9f}\".format(sess.run(cost, feed_dict={X: train_X, y:train_Y})), \\\n",
        "                \"W=\", sess.run(W), \"b=\", sess.run(b)\n",
        "\n",
        "    print \"Optimization Finished!\"\n",
        "    print \"cost=\", sess.run(cost, feed_dict={X: train_X, y: train_Y}), \\\n",
        "          \"W=\", sess.run(W), \"b=\", sess.run(b)\n",
        "\n",
        "    #Graphic display\n",
        "    plt.plot(train_X, train_Y, 'ro', label='Original data')\n",
        "    plt.plot(train_X, sess.run(W) * train_X + sess.run(b), label='Fitted line')\n",
        "    plt.legend()\n",
        "    plt.show()"
      ],
      "execution_count": 11,
      "outputs": [
        {
          "output_type": "stream",
          "text": [
            "Epoch: 0001 cost= 8810.703125000 W= -0.6894207 b= -1.3411077\n",
            "Epoch: 0201 cost= 5048.647460938 W= -0.500618 b= -1.1520994\n",
            "Epoch: 0401 cost= 2661.365966797 W= -0.3393883 b= -0.9900558\n",
            "Epoch: 0601 cost= 1271.116333008 W= -0.20717394 b= -0.85618573\n",
            "Epoch: 0801 cost= 542.542724609 W= -0.10420147 b= -0.75045925\n",
            "Epoch: 1001 cost= 206.509521484 W= -0.029021127 b= -0.6711899\n",
            "Epoch: 1201 cost= 73.067291260 W= 0.02177902 b= -0.6148045\n",
            "Epoch: 1401 cost= 28.344144821 W= 0.053186923 b= -0.57625353\n",
            "Epoch: 1601 cost= 15.910450935 W= 0.07077963 b= -0.54997903\n",
            "Epoch: 1801 cost= 13.080209732 W= 0.07962239 b= -0.53095925\n",
            "Epoch: 2001 cost= 12.548313141 W= 0.08356252 b= -0.5153671\n",
            "Epoch: 2201 cost= 12.450679779 W= 0.08508392 b= -0.5006927\n",
            "Epoch: 2401 cost= 12.414784431 W= 0.085560046 b= -0.48548976\n",
            "Epoch: 2601 cost= 12.383067131 W= 0.08564154 b= -0.46899694\n",
            "Epoch: 2801 cost= 12.348598480 W= 0.08559098 b= -0.45081452\n",
            "Epoch: 3001 cost= 12.310529709 W= 0.08549743 b= -0.4306954\n",
            "Epoch: 3201 cost= 12.268524170 W= 0.0853857 b= -0.4084398\n",
            "Epoch: 3401 cost= 12.222255707 W= 0.085260734 b= -0.38385135\n",
            "Epoch: 3601 cost= 12.171388626 W= 0.08512266 b= -0.35672334\n",
            "Epoch: 3801 cost= 12.115559578 W= 0.08497048 b= -0.32683408\n",
            "Epoch: 4001 cost= 12.054394722 W= 0.084803045 b= -0.293947\n",
            "Epoch: 4201 cost= 11.987501144 W= 0.084619045 b= -0.25781152\n",
            "Epoch: 4401 cost= 11.914486885 W= 0.08441714 b= -0.21816348\n",
            "Epoch: 4601 cost= 11.834954262 W= 0.084195934 b= -0.17472818\n",
            "Epoch: 4801 cost= 11.748515129 W= 0.08395398 b= -0.12722254\n",
            "Epoch: 5001 cost= 11.654802322 W= 0.083689794 b= -0.07535931\n",
            "Epoch: 5201 cost= 11.553468704 W= 0.08340193 b= -0.01885148\n",
            "Epoch: 5401 cost= 11.444226265 W= 0.08308894 b= 0.042581037\n",
            "Epoch: 5601 cost= 11.326829910 W= 0.08274947 b= 0.109204456\n",
            "Epoch: 5801 cost= 11.201124191 W= 0.082382284 b= 0.18126269\n",
            "Epoch: 6001 cost= 11.067038536 W= 0.0819863 b= 0.25896809\n",
            "Epoch: 6201 cost= 10.924619675 W= 0.08156062 b= 0.34249195\n",
            "Epoch: 6401 cost= 10.774034500 W= 0.08110465 b= 0.4319551\n",
            "Epoch: 6601 cost= 10.615583420 W= 0.080618076 b= 0.527419\n",
            "Epoch: 6801 cost= 10.449711800 W= 0.08010094 b= 0.6288793\n",
            "Epoch: 7001 cost= 10.276999474 W= 0.079553634 b= 0.73625994\n",
            "Epoch: 7201 cost= 10.098161697 W= 0.078976914 b= 0.8494137\n",
            "Epoch: 7401 cost= 9.914031982 W= 0.07837191 b= 0.9681227\n",
            "Epoch: 7601 cost= 9.725531578 W= 0.07774009 b= 1.0921048\n",
            "Epoch: 7801 cost= 9.533662796 W= 0.077083185 b= 1.2210195\n",
            "Epoch: 8001 cost= 9.339451790 W= 0.07640317 b= 1.3544872\n",
            "Epoch: 8201 cost= 9.143948555 W= 0.075702175 b= 1.49209\n",
            "Epoch: 8401 cost= 8.948181152 W= 0.07498245 b= 1.6333916\n",
            "Epoch: 8601 cost= 8.753134727 W= 0.07424624 b= 1.7779493\n",
            "Epoch: 8801 cost= 8.559740067 W= 0.073495835 b= 1.925323\n",
            "Epoch: 9001 cost= 8.368845940 W= 0.07273338 b= 2.0750847\n",
            "Epoch: 9201 cost= 8.181225777 W= 0.071960986 b= 2.226824\n",
            "Epoch: 9401 cost= 7.997556210 W= 0.07118061 b= 2.380159\n",
            "Epoch: 9601 cost= 7.818436146 W= 0.07039408 b= 2.5347285\n",
            "Epoch: 9801 cost= 7.644371986 W= 0.069603056 b= 2.6902025\n",
            "Optimization Finished!\n",
            "cost= 7.4766245 W= 0.06881309 b= 2.8454936\n"
          ],
          "name": "stdout"
        },
        {
          "output_type": "display_data",
          "data": {
            "image/png": "[encoded data removed]",
            "text/plain": [
              "<matplotlib.figure.Figure at 0x7fb8f5ce6810>"
            ]
          },
          "metadata": {
            "tags": []
          }
        }
      ]
    },
    {
      "metadata": {
        "id": "drAb0Gq7sr7p",
        "colab_type": "code",
        "colab": {
          "autoexec": {
            "startup": false,
            "wait_interval": 0
          }
        }
      },
      "cell_type": "code",
      "source": [
        "#!nohup tensorboard --logdir ."
      ],
      "execution_count": 0,
      "outputs": []
    },
    {
      "metadata": {
        "id": "yV3z94iou4NR",
        "colab_type": "code",
        "colab": {
          "autoexec": {
            "startup": false,
            "wait_interval": 0
          }
        }
      },
      "cell_type": "code",
      "source": [
        ""
      ],
      "execution_count": 0,
      "outputs": []
    },
    {
      "metadata": {
        "id": "T0kc5twswsOO",
        "colab_type": "code",
        "colab": {
          "autoexec": {
            "startup": false,
            "wait_interval": 0
          },
          "base_uri": "https://localhost:8080/",
          "height": 34
        },
        "outputId": "4488928a-90cd-4cc8-9a9f-62c8fceb9cb8",
        "executionInfo": {
          "status": "ok",
          "timestamp": 1528923150974,
          "user_tz": -120,
          "elapsed": 1685,
          "user": {
            "displayName": "Santi Segui",
            "photoUrl": "//lh3.googleusercontent.com/-uSLYDDb2N50/AAAAAAAAAAI/AAAAAAAAPbw/abTkAE5dwLo/s50-c-k-no/photo.jpg",
            "userId": "113371974253879421657"
          }
        }
      },
      "cell_type": "code",
      "source": [
        "ls log"
      ],
      "execution_count": 13,
      "outputs": [
        {
          "output_type": "stream",
          "text": [
            "events.out.tfevents.1528923135.a85a5d1dfbb6\r\n"
          ],
          "name": "stdout"
        }
      ]
    },
    {
      "metadata": {
        "id": "IPQNIZjwxPdW",
        "colab_type": "code",
        "colab": {
          "autoexec": {
            "startup": false,
            "wait_interval": 0
          },
          "base_uri": "https://localhost:8080/",
          "height": 68
        },
        "outputId": "03dc8082-37fb-4ddd-df50-a27923419005",
        "executionInfo": {
          "status": "ok",
          "timestamp": 1528923152735,
          "user_tz": -120,
          "elapsed": 1731,
          "user": {
            "displayName": "Santi Segui",
            "photoUrl": "//lh3.googleusercontent.com/-uSLYDDb2N50/AAAAAAAAAAI/AAAAAAAAPbw/abTkAE5dwLo/s50-c-k-no/photo.jpg",
            "userId": "113371974253879421657"
          }
        }
      },
      "cell_type": "code",
      "source": [
        "!ps aux | grep tensorboard"
      ],
      "execution_count": 14,
      "outputs": [
        {
          "output_type": "stream",
          "text": [
            "root      2382 32.4  1.4 877672 196460 ?       Sl   20:52   0:08 /usr/bin/python2 /usr/local/bin/tensorboard --logdir ./log --host 0.0.0.0 --port 6006\r\n",
            "root      2497 54.5  0.0  33960  5096 pts/1    Ss+  20:52   0:01 /bin/sh -c ps aux | grep tensorboard\r\n",
            "root      2499  0.0  0.0  38200  5608 pts/1    S+   20:52   0:00 grep tensorboard\r\n"
          ],
          "name": "stdout"
        }
      ]
    },
    {
      "metadata": {
        "id": "Q-usEFtb6o9R",
        "colab_type": "code",
        "colab": {
          "autoexec": {
            "startup": false,
            "wait_interval": 0
          }
        }
      },
      "cell_type": "code",
      "source": [
        "#!kill 408"
      ],
      "execution_count": 0,
      "outputs": []
    },
    {
      "metadata": {
        "id": "ENs8UQpa6xnI",
        "colab_type": "code",
        "colab": {
          "autoexec": {
            "startup": false,
            "wait_interval": 0
          }
        }
      },
      "cell_type": "code",
      "source": [
        "#!rm -rf log"
      ],
      "execution_count": 0,
      "outputs": []
    },
    {
      "metadata": {
        "id": "hqb0y5Jd6zgm",
        "colab_type": "code",
        "colab": {
          "autoexec": {
            "startup": false,
            "wait_interval": 0
          }
        }
      },
      "cell_type": "code",
      "source": [
        ""
      ],
      "execution_count": 0,
      "outputs": []
    }
  ]
}
