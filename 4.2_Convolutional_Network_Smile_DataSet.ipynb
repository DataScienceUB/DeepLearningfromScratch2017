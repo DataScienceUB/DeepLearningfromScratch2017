{
  "nbformat": 4,
  "nbformat_minor": 0,
  "metadata": {
    "colab": {
      "name": "4.2%20Convolutional%20Network%20-%20Smile%20DataSet.ipynb",
      "version": "0.3.2",
      "views": {},
      "default_view": {},
      "provenance": []
    },
    "kernelspec": {
      "display_name": "Python 2",
      "language": "python",
      "name": "python2"
    },
    "accelerator": "GPU"
  },
  "cells": [
    {
      "metadata": {
        "id": "I_hdbX8tW-kR",
        "colab_type": "text"
      },
      "cell_type": "markdown",
      "source": [
        "# Smile Detection using Convolutional Neural Networks"
      ]
    },
    {
      "metadata": {
        "id": "-dxLxWhJW-kR",
        "colab_type": "code",
        "colab": {
          "autoexec": {
            "startup": false,
            "wait_interval": 0
          },
          "base_uri": "https://localhost:8080/",
          "height": 17
        },
        "outputId": "00164170-0c2b-44ec-d353-6365bf76cde9",
        "executionInfo": {
          "status": "ok",
          "timestamp": 1528898278590,
          "user_tz": -120,
          "elapsed": 2044,
          "user": {
            "displayName": "",
            "photoUrl": "",
            "userId": ""
          }
        }
      },
      "cell_type": "code",
      "source": [
        "# Inspired work from Kyle McDonald\n",
        "# Project: https://github.com/kylemcdonald/SmileCNN"
      ],
      "execution_count": 1,
      "outputs": []
    },
    {
      "metadata": {
        "id": "grSx5fzOW-kY",
        "colab_type": "code",
        "colab": {
          "autoexec": {
            "startup": false,
            "wait_interval": 0
          },
          "base_uri": "https://localhost:8080/",
          "height": 17
        },
        "outputId": "3298531e-c9e2-4e63-ea61-776849e2f317",
        "executionInfo": {
          "status": "ok",
          "timestamp": 1528898279835,
          "user_tz": -120,
          "elapsed": 1181,
          "user": {
            "displayName": "",
            "photoUrl": "",
            "userId": ""
          }
        }
      },
      "cell_type": "code",
      "source": [
        "#util and imports\n",
        "import os\n",
        "import fnmatch\n",
        "from cStringIO import StringIO\n",
        "import numpy as np\n",
        "import PIL.Image\n",
        "import IPython.display\n",
        "import shutil\n",
        "\n",
        "def list_all_files(directory, extensions=None):\n",
        "    for root, dirnames, filenames in os.walk(directory):\n",
        "        for filename in filenames:\n",
        "            base, ext = os.path.splitext(filename)\n",
        "            joined = os.path.join(root, filename)\n",
        "            if extensions is None or ext.lower() in extensions:\n",
        "                yield joined\n",
        "\n",
        "\n",
        "def show_array(a, fmt='png', filename=None):\n",
        "    a = np.uint8(np.clip(a, 0, 255))\n",
        "    image_data = StringIO()\n",
        "    PIL.Image.fromarray(a).save(image_data, fmt)\n",
        "    if filename is None:\n",
        "        IPython.display.display(IPython.display.Image(data=image_data.getvalue()))\n",
        "    else:\n",
        "        with open(filename, 'w') as f:\n",
        "            image_data.seek(0)\n",
        "            shutil.copyfileobj(image_data, f)\n",
        "\n",
        "def find_rectangle(n, max_ratio=2):\n",
        "    sides = []\n",
        "    square = int(math.sqrt(n))\n",
        "    for w in range(square, max_ratio * square):\n",
        "        h = n / w\n",
        "        used = w * h\n",
        "        leftover = n - used\n",
        "        sides.append((leftover, (w, h)))\n",
        "    return sorted(sides)[0][1]\n",
        "\n",
        "# should work for 1d and 2d images, assumes images are square but can be overriden\n",
        "def make_mosaic(images, n=None, nx=None, ny=None, w=None, h=None):\n",
        "    if n is None and nx is None and ny is None:\n",
        "        nx, ny = find_rectangle(len(images))\n",
        "    else:\n",
        "        nx = n if nx is None else nx\n",
        "        ny = n if ny is None else ny\n",
        "    images = np.array(images)\n",
        "    if images.ndim == 2:\n",
        "        side = int(np.sqrt(len(images[0])))\n",
        "        h = side if h is None else h\n",
        "        w = side if w is None else w\n",
        "        images = images.reshape(-1, h, w)\n",
        "    else:\n",
        "        h = images.shape[1]\n",
        "        w = images.shape[2]\n",
        "    image_gen = iter(images)\n",
        "    mosaic = np.empty((h*ny, w*nx))\n",
        "    for i in range(ny):\n",
        "        ia = (i)*h\n",
        "        ib = (i+1)*h\n",
        "        for j in range(nx):\n",
        "            ja = j*w\n",
        "            jb = (j+1)*w\n",
        "            mosaic[ia:ib, ja:jb] = next(image_gen)\n",
        "    return mosaic"
      ],
      "execution_count": 2,
      "outputs": []
    },
    {
      "metadata": {
        "id": "MFm2qH8RW-kT",
        "colab_type": "code",
        "colab": {
          "autoexec": {
            "startup": false,
            "wait_interval": 0
          },
          "base_uri": "https://localhost:8080/",
          "height": 742
        },
        "outputId": "b9bb556a-85b3-4ab8-942c-4442476b1d78",
        "executionInfo": {
          "status": "error",
          "timestamp": 1528898329026,
          "user_tz": -120,
          "elapsed": 49132,
          "user": {
            "displayName": "",
            "photoUrl": "",
            "userId": ""
          }
        }
      },
      "cell_type": "code",
      "source": [
        "#Download dataset\n",
        "!sudo apt-get install unzip\n",
        "!wget https://github.com/hromi/SMILEsmileD/archive/master.zip\n",
        "!unzip -q master.zip\n",
        "!rm master.zip"
      ],
      "execution_count": 3,
      "outputs": [
        {
          "output_type": "stream",
          "text": [
            "/bin/sh: 1: sudo: not found\n",
            "--2018-06-13 13:58:02--  https://github.com/hromi/SMILEsmileD/archive/master.zip\n",
            "Resolving github.com (github.com)... 192.30.253.112, 192.30.253.113\n",
            "Connecting to github.com (github.com)|192.30.253.112|:443... connected.\n",
            "HTTP request sent, awaiting response... 302 Found\n",
            "Location: https://codeload.github.com/hromi/SMILEsmileD/zip/master [following]\n",
            "--2018-06-13 13:58:02--  https://codeload.github.com/hromi/SMILEsmileD/zip/master\n",
            "Resolving codeload.github.com (codeload.github.com)... 192.30.253.121, 192.30.253.120\n",
            "Connecting to codeload.github.com (codeload.github.com)|192.30.253.121|:443... connected.\n",
            "HTTP request sent, awaiting response... 200 OK\n",
            "Length: 41620712 (40M) [application/zip]\n",
            "Saving to: ‘master.zip.1’\n",
            "\n",
            "master.zip.1        100%[===================>]  39.69M  18.5MB/s    in 2.2s    \n",
            "\n",
            "2018-06-13 13:58:05 (18.5 MB/s) - ‘master.zip.1’ saved [41620712/41620712]\n",
            "\n",
            "replace SMILEsmileD-master/README? [y]es, [n]o, [A]ll, [N]one, [r]ename: ^C\n"
          ],
          "name": "stdout"
        },
        {
          "output_type": "error",
          "ename": "UnboundLocalError",
          "evalue": "ignored",
          "traceback": [
            "\u001b[0;31m\u001b[0m",
            "\u001b[0;31mUnboundLocalError\u001b[0mTraceback (most recent call last)",
            "\u001b[0;32m<ipython-input-3-39f700d0e4eb>\u001b[0m in \u001b[0;36m<module>\u001b[0;34m()\u001b[0m\n\u001b[1;32m      2\u001b[0m \u001b[0mget_ipython\u001b[0m\u001b[0;34m(\u001b[0m\u001b[0;34m)\u001b[0m\u001b[0;34m.\u001b[0m\u001b[0msystem\u001b[0m\u001b[0;34m(\u001b[0m\u001b[0;34mu'wget https://github.com/hromi/SMILEsmileD/archive/master.zip'\u001b[0m\u001b[0;34m)\u001b[0m\u001b[0;34m\u001b[0m\u001b[0m\n\u001b[1;32m      3\u001b[0m \u001b[0mget_ipython\u001b[0m\u001b[0;34m(\u001b[0m\u001b[0;34m)\u001b[0m\u001b[0;34m.\u001b[0m\u001b[0msystem\u001b[0m\u001b[0;34m(\u001b[0m\u001b[0;34mu'unzip -q master.zip'\u001b[0m\u001b[0;34m)\u001b[0m\u001b[0;34m\u001b[0m\u001b[0m\n\u001b[0;32m----> 4\u001b[0;31m \u001b[0mget_ipython\u001b[0m\u001b[0;34m(\u001b[0m\u001b[0;34m)\u001b[0m\u001b[0;34m.\u001b[0m\u001b[0msystem\u001b[0m\u001b[0;34m(\u001b[0m\u001b[0;34mu'rm master.zip'\u001b[0m\u001b[0;34m)\u001b[0m\u001b[0;34m\u001b[0m\u001b[0m\n\u001b[0m",
            "\u001b[0;32m/usr/local/lib/python2.7/dist-packages/IPython/core/interactiveshell.pyc\u001b[0m in \u001b[0;36msystem_piped\u001b[0;34m(self, cmd)\u001b[0m\n\u001b[1;32m   2209\u001b[0m         \u001b[0;31m# a non-None value would trigger :func:`sys.displayhook` calls.\u001b[0m\u001b[0;34m\u001b[0m\u001b[0;34m\u001b[0m\u001b[0m\n\u001b[1;32m   2210\u001b[0m         \u001b[0;31m# Instead, we store the exit_code in user_ns.\u001b[0m\u001b[0;34m\u001b[0m\u001b[0;34m\u001b[0m\u001b[0m\n\u001b[0;32m-> 2211\u001b[0;31m         \u001b[0mself\u001b[0m\u001b[0;34m.\u001b[0m\u001b[0muser_ns\u001b[0m\u001b[0;34m[\u001b[0m\u001b[0;34m'_exit_code'\u001b[0m\u001b[0;34m]\u001b[0m \u001b[0;34m=\u001b[0m \u001b[0msystem\u001b[0m\u001b[0;34m(\u001b[0m\u001b[0mself\u001b[0m\u001b[0;34m.\u001b[0m\u001b[0mvar_expand\u001b[0m\u001b[0;34m(\u001b[0m\u001b[0mcmd\u001b[0m\u001b[0;34m,\u001b[0m \u001b[0mdepth\u001b[0m\u001b[0;34m=\u001b[0m\u001b[0;36m1\u001b[0m\u001b[0;34m)\u001b[0m\u001b[0;34m)\u001b[0m\u001b[0;34m\u001b[0m\u001b[0m\n\u001b[0m\u001b[1;32m   2212\u001b[0m \u001b[0;34m\u001b[0m\u001b[0m\n\u001b[1;32m   2213\u001b[0m     \u001b[0;32mdef\u001b[0m \u001b[0msystem_raw\u001b[0m\u001b[0;34m(\u001b[0m\u001b[0mself\u001b[0m\u001b[0;34m,\u001b[0m \u001b[0mcmd\u001b[0m\u001b[0;34m)\u001b[0m\u001b[0;34m:\u001b[0m\u001b[0;34m\u001b[0m\u001b[0m\n",
            "\u001b[0;32m/usr/local/lib/python2.7/dist-packages/IPython/utils/_process_posix.pyc\u001b[0m in \u001b[0;36msystem\u001b[0;34m(self, cmd)\u001b[0m\n\u001b[1;32m    171\u001b[0m             \u001b[0;31m# (the character is known as ETX for 'End of Text', see\u001b[0m\u001b[0;34m\u001b[0m\u001b[0;34m\u001b[0m\u001b[0m\n\u001b[1;32m    172\u001b[0m             \u001b[0;31m# curses.ascii.ETX).\u001b[0m\u001b[0;34m\u001b[0m\u001b[0;34m\u001b[0m\u001b[0m\n\u001b[0;32m--> 173\u001b[0;31m             \u001b[0mchild\u001b[0m\u001b[0;34m.\u001b[0m\u001b[0msendline\u001b[0m\u001b[0;34m(\u001b[0m\u001b[0mchr\u001b[0m\u001b[0;34m(\u001b[0m\u001b[0;36m3\u001b[0m\u001b[0;34m)\u001b[0m\u001b[0;34m)\u001b[0m\u001b[0;34m\u001b[0m\u001b[0m\n\u001b[0m\u001b[1;32m    174\u001b[0m             \u001b[0;31m# Read and print any more output the program might produce on its\u001b[0m\u001b[0;34m\u001b[0m\u001b[0;34m\u001b[0m\u001b[0m\n\u001b[1;32m    175\u001b[0m             \u001b[0;31m# way out.\u001b[0m\u001b[0;34m\u001b[0m\u001b[0;34m\u001b[0m\u001b[0m\n",
            "\u001b[0;31mUnboundLocalError\u001b[0m: local variable 'child' referenced before assignment"
          ]
        }
      ]
    },
    {
      "metadata": {
        "id": "knhdmivtW-ka",
        "colab_type": "code",
        "colab": {
          "autoexec": {
            "startup": false,
            "wait_interval": 0
          },
          "base_uri": "https://localhost:8080/",
          "height": 51
        },
        "outputId": "dce72dbe-2bd4-4d4f-dcfb-f32de77279ab",
        "executionInfo": {
          "status": "ok",
          "timestamp": 1528898336470,
          "user_tz": -120,
          "elapsed": 840,
          "user": {
            "displayName": "",
            "photoUrl": "",
            "userId": ""
          }
        }
      },
      "cell_type": "code",
      "source": [
        "negative_paths = list(list_all_files('SMILEsmileD-master/SMILEs/negatives/negatives7/', ['.jpg']))\n",
        "print 'loaded', len(negative_paths), 'negative examples'\n",
        "positive_paths = list(list_all_files('SMILEsmileD-master/SMILEs/positives/positives7/', ['.jpg']))\n",
        "print 'loaded', len(positive_paths), 'positive examples'\n",
        "examples = [(path, 0) for path in negative_paths] + [(path, 1) for path in positive_paths]"
      ],
      "execution_count": 4,
      "outputs": [
        {
          "output_type": "stream",
          "text": [
            "loaded 9475 negative examples\n",
            "loaded 3690 positive examples\n"
          ],
          "name": "stdout"
        }
      ]
    },
    {
      "metadata": {
        "id": "Afzq_P7rW-kc",
        "colab_type": "code",
        "colab": {
          "autoexec": {
            "startup": false,
            "wait_interval": 0
          },
          "base_uri": "https://localhost:8080/",
          "height": 323
        },
        "outputId": "336feac5-1d1b-480f-cc29-b8183eecfdd6",
        "executionInfo": {
          "status": "ok",
          "timestamp": 1528898340058,
          "user_tz": -120,
          "elapsed": 2638,
          "user": {
            "displayName": "",
            "photoUrl": "",
            "userId": ""
          }
        }
      },
      "cell_type": "code",
      "source": [
        "!pip install -U scikit-image"
      ],
      "execution_count": 5,
      "outputs": [
        {
          "output_type": "stream",
          "text": [
            "Requirement already up-to-date: scikit-image in /usr/local/lib/python2.7/dist-packages (0.14.0)\r\n",
            "Requirement not upgraded as not directly required: PyWavelets>=0.4.0 in /usr/local/lib/python2.7/dist-packages (from scikit-image) (0.5.2)\r\n",
            "Requirement not upgraded as not directly required: scipy>=0.17.0 in /usr/local/lib/python2.7/dist-packages (from scikit-image) (0.19.1)\r\n",
            "Requirement not upgraded as not directly required: six>=1.10.0 in /usr/local/lib/python2.7/dist-packages (from scikit-image) (1.11.0)\r\n",
            "Requirement not upgraded as not directly required: networkx>=1.8 in /usr/local/lib/python2.7/dist-packages (from scikit-image) (2.1)\r\n",
            "Requirement not upgraded as not directly required: matplotlib>=2.0.0 in /usr/local/lib/python2.7/dist-packages (from scikit-image) (2.1.2)\r\n",
            "Requirement not upgraded as not directly required: dask[array]>=0.9.0 in /usr/local/lib/python2.7/dist-packages (from scikit-image) (0.17.5)\n",
            "Requirement not upgraded as not directly required: cloudpickle>=0.2.1 in /usr/local/lib/python2.7/dist-packages (from scikit-image) (0.5.3)\n",
            "Requirement not upgraded as not directly required: pillow>=4.3.0 in /usr/local/lib/python2.7/dist-packages (from scikit-image) (5.1.0)\n",
            "Requirement not upgraded as not directly required: numpy>=1.9.1 in /usr/local/lib/python2.7/dist-packages (from PyWavelets>=0.4.0->scikit-image) (1.14.3)\n",
            "Requirement not upgraded as not directly required: decorator>=4.1.0 in /usr/local/lib/python2.7/dist-packages (from networkx>=1.8->scikit-image) (4.3.0)\n",
            "Requirement not upgraded as not directly required: cycler>=0.10 in /usr/local/lib/python2.7/dist-packages (from matplotlib>=2.0.0->scikit-image) (0.10.0)\n",
            "Requirement not upgraded as not directly required: backports.functools-lru-cache in /usr/local/lib/python2.7/dist-packages (from matplotlib>=2.0.0->scikit-image) (1.5)\n",
            "Requirement not upgraded as not directly required: subprocess32 in /usr/local/lib/python2.7/dist-packages (from matplotlib>=2.0.0->scikit-image) (3.5.0)\n",
            "Requirement not upgraded as not directly required: pytz in /usr/local/lib/python2.7/dist-packages (from matplotlib>=2.0.0->scikit-image) (2018.4)\n",
            "Requirement not upgraded as not directly required: python-dateutil>=2.1 in /usr/local/lib/python2.7/dist-packages (from matplotlib>=2.0.0->scikit-image) (2.5.3)\n",
            "Requirement not upgraded as not directly required: pyparsing!=2.0.4,!=2.1.2,!=2.1.6,>=2.0.1 in /usr/local/lib/python2.7/dist-packages (from matplotlib>=2.0.0->scikit-image) (2.2.0)\n",
            "Requirement not upgraded as not directly required: toolz>=0.7.3; extra == \"array\" in /usr/local/lib/python2.7/dist-packages (from dask[array]>=0.9.0->scikit-image) (0.9.0)\n"
          ],
          "name": "stdout"
        }
      ]
    },
    {
      "metadata": {
        "id": "RfAdG-ADW-kg",
        "colab_type": "code",
        "colab": {
          "autoexec": {
            "startup": false,
            "wait_interval": 0
          },
          "base_uri": "https://localhost:8080/",
          "height": 34
        },
        "outputId": "c9e850d0-3e19-4f7d-81d3-1b38d9b7715d",
        "executionInfo": {
          "status": "ok",
          "timestamp": 1528898349260,
          "user_tz": -120,
          "elapsed": 8808,
          "user": {
            "displayName": "",
            "photoUrl": "",
            "userId": ""
          }
        }
      },
      "cell_type": "code",
      "source": [
        "import numpy as np\n",
        "from skimage.measure import block_reduce\n",
        "from skimage.io import imread\n",
        "\n",
        "def examples_to_dataset(examples, block_size=2):\n",
        "    X = []\n",
        "    y = []\n",
        "    for path, label in examples:\n",
        "        img = imread(path, as_gray=True)\n",
        "        img = block_reduce(img, block_size=(block_size, block_size), func=np.mean)\n",
        "        img = img.reshape((32*32))\n",
        "        X.append(img)\n",
        "        if(label==0):\n",
        "            y.append((1,0))\n",
        "        else:\n",
        "            y.append((0,1))\n",
        "    return np.asarray(X), np.asarray(y)\n",
        "\n",
        "X, Y = examples_to_dataset(examples)\n",
        "X = np.asarray(X,dtype=np.float32)/ 255.\n",
        "Y = np.asarray(Y,dtype=np.int32)\n",
        "print X.dtype, X.min(), X.max(), X.shape"
      ],
      "execution_count": 6,
      "outputs": [
        {
          "output_type": "stream",
          "text": [
            "float32 0.0 1.0 (13165, 1024)\n"
          ],
          "name": "stdout"
        }
      ]
    },
    {
      "metadata": {
        "id": "ZTjEMAziW-ki",
        "colab_type": "code",
        "colab": {
          "autoexec": {
            "startup": false,
            "wait_interval": 0
          },
          "base_uri": "https://localhost:8080/",
          "height": 71
        },
        "outputId": "9238c1c2-a20d-4439-e783-cae647a3c62c",
        "executionInfo": {
          "status": "ok",
          "timestamp": 1528898352218,
          "user_tz": -120,
          "elapsed": 1775,
          "user": {
            "displayName": "",
            "photoUrl": "",
            "userId": ""
          }
        }
      },
      "cell_type": "code",
      "source": [
        "# Split data into train and test set\n",
        "from sklearn.cross_validation import train_test_split\n",
        "X_train, X_test, y_train, y_test = train_test_split(X, Y, test_size=0.1, random_state=2)"
      ],
      "execution_count": 7,
      "outputs": [
        {
          "output_type": "stream",
          "text": [
            "/usr/local/lib/python2.7/dist-packages/sklearn/cross_validation.py:41: DeprecationWarning: This module was deprecated in version 0.18 in favor of the model_selection module into which all the refactored classes and functions are moved. Also note that the interface of the new CV iterators are different from that of this module. This module will be removed in 0.20.\n",
            "  \"This module will be removed in 0.20.\", DeprecationWarning)\n"
          ],
          "name": "stderr"
        }
      ]
    },
    {
      "metadata": {
        "id": "EvaqIvwgW-kk",
        "colab_type": "code",
        "colab": {
          "autoexec": {
            "startup": false,
            "wait_interval": 0
          },
          "base_uri": "https://localhost:8080/",
          "height": 273
        },
        "outputId": "55c877ae-8686-4203-a9d1-fdfe846d1906",
        "executionInfo": {
          "status": "ok",
          "timestamp": 1528898373192,
          "user_tz": -120,
          "elapsed": 673,
          "user": {
            "displayName": "",
            "photoUrl": "",
            "userId": ""
          }
        }
      },
      "cell_type": "code",
      "source": [
        "#show Negative images\n",
        "show_array(255 * make_mosaic(X[:len(negative_paths)], 8), fmt='jpeg') # negative at the beginning"
      ],
      "execution_count": 8,
      "outputs": [
        {
          "output_type": "display_data",
          "data": {
            "text/plain": [
              "<IPython.core.display.Image object>"
            ],
            "image/jpeg": "[encoded data removed]"
          },
          "metadata": {
            "tags": []
          }
        }
      ]
    },
    {
      "metadata": {
        "id": "UZyE8Z0_W-kn",
        "colab_type": "code",
        "colab": {
          "autoexec": {
            "startup": false,
            "wait_interval": 0
          },
          "base_uri": "https://localhost:8080/",
          "height": 273
        },
        "outputId": "a66420db-1a10-45e7-a495-3786c2823f15",
        "executionInfo": {
          "status": "ok",
          "timestamp": 1528898374742,
          "user_tz": -120,
          "elapsed": 784,
          "user": {
            "displayName": "",
            "photoUrl": "",
            "userId": ""
          }
        }
      },
      "cell_type": "code",
      "source": [
        "#show Positive images\n",
        "show_array(255 * make_mosaic(X[-len(positive_paths):], 8), fmt='jpeg') # positive at the end"
      ],
      "execution_count": 9,
      "outputs": [
        {
          "output_type": "display_data",
          "data": {
            "text/plain": [
              "<IPython.core.display.Image object>"
            ],
            "image/jpeg": "[encoded data removed]"
          },
          "metadata": {
            "tags": []
          }
        }
      ]
    },
    {
      "metadata": {
        "id": "eB7r_aIkW-kq",
        "colab_type": "code",
        "colab": {
          "autoexec": {
            "startup": false,
            "wait_interval": 0
          },
          "base_uri": "https://localhost:8080/",
          "height": 17
        },
        "outputId": "3810b648-de0e-403c-876c-289437382f54",
        "executionInfo": {
          "status": "ok",
          "timestamp": 1528898376590,
          "user_tz": -120,
          "elapsed": 1282,
          "user": {
            "displayName": "",
            "photoUrl": "",
            "userId": ""
          }
        }
      },
      "cell_type": "code",
      "source": [
        "import tensorflow as tf"
      ],
      "execution_count": 10,
      "outputs": []
    },
    {
      "metadata": {
        "id": "xjSYmXu6W-kt",
        "colab_type": "code",
        "colab": {
          "autoexec": {
            "startup": false,
            "wait_interval": 0
          },
          "base_uri": "https://localhost:8080/",
          "height": 17
        },
        "outputId": "6effb6ff-b50a-4585-ac94-48e47444dfc2",
        "executionInfo": {
          "status": "ok",
          "timestamp": 1528898378324,
          "user_tz": -120,
          "elapsed": 667,
          "user": {
            "displayName": "",
            "photoUrl": "",
            "userId": ""
          }
        }
      },
      "cell_type": "code",
      "source": [
        "# Network Parameters\n",
        "n_input = X.shape[1]\n",
        "n_classes = 2 # (Smile vs. No Smile)\n",
        "dropout = 0.75 # Dropout, probability to keep units"
      ],
      "execution_count": 11,
      "outputs": []
    },
    {
      "metadata": {
        "id": "fHdyeQ1rW-kv",
        "colab_type": "code",
        "colab": {
          "autoexec": {
            "startup": false,
            "wait_interval": 0
          },
          "base_uri": "https://localhost:8080/",
          "height": 17
        },
        "outputId": "51855c59-8cbd-4e82-e024-c417bdc00fdd",
        "executionInfo": {
          "status": "ok",
          "timestamp": 1528898379462,
          "user_tz": -120,
          "elapsed": 680,
          "user": {
            "displayName": "",
            "photoUrl": "",
            "userId": ""
          }
        }
      },
      "cell_type": "code",
      "source": [
        "# Parameters\n",
        "learning_rate = 0.001\n",
        "training_iters = 8820\n",
        "batch_size = 128\n",
        "display_step = 10\n",
        "training_epochs=200"
      ],
      "execution_count": 12,
      "outputs": []
    },
    {
      "metadata": {
        "id": "vg2a14OBW-kx",
        "colab_type": "code",
        "colab": {
          "autoexec": {
            "startup": false,
            "wait_interval": 0
          },
          "base_uri": "https://localhost:8080/",
          "height": 17
        },
        "outputId": "b6a1fc4a-0a71-4914-de4c-a33a7132fa1c",
        "executionInfo": {
          "status": "ok",
          "timestamp": 1528898380661,
          "user_tz": -120,
          "elapsed": 784,
          "user": {
            "displayName": "",
            "photoUrl": "",
            "userId": ""
          }
        }
      },
      "cell_type": "code",
      "source": [
        "# tf Graph input\n",
        "x = tf.placeholder(tf.float32, [None, n_input])\n",
        "y = tf.placeholder(tf.float32, [None, n_classes])\n",
        "keep_prob = tf.placeholder(tf.float32) #dropout (keep probability)"
      ],
      "execution_count": 13,
      "outputs": []
    },
    {
      "metadata": {
        "id": "BJFDy7jgW-ky",
        "colab_type": "code",
        "colab": {
          "autoexec": {
            "startup": false,
            "wait_interval": 0
          },
          "base_uri": "https://localhost:8080/",
          "height": 17
        },
        "outputId": "28622db8-30cb-44c8-f493-736d560df708",
        "executionInfo": {
          "status": "ok",
          "timestamp": 1528898381791,
          "user_tz": -120,
          "elapsed": 654,
          "user": {
            "displayName": "",
            "photoUrl": "",
            "userId": ""
          }
        }
      },
      "cell_type": "code",
      "source": [
        "# Create model\n",
        "def conv2d(img, w, b):\n",
        "    return tf.nn.relu(tf.nn.bias_add(tf.nn.conv2d(img, w, strides=[1, 1, 1, 1], \n",
        "                                                  padding='SAME'),b))\n",
        "\n",
        "def max_pool(img, k):\n",
        "    return tf.nn.max_pool(img, ksize=[1, k, k, 1], strides=[1, k, k, 1], padding='SAME')\n",
        "\n",
        "def conv_net(_X, _weights, _biases, _dropout):\n",
        "    # Reshape input picture\n",
        "    _X = tf.reshape(_X, shape=[-1, 32, 32, 1])\n",
        "\n",
        "    # Convolution Layer\n",
        "    conv1 = conv2d(_X, _weights['wc1'], _biases['bc1'])\n",
        "    \n",
        "    # Convolution Layer\n",
        "    conv2 = conv2d(conv1, _weights['wc2'], _biases['bc2'])\n",
        "    # Max Pooling (down-sampling)\n",
        "    conv2 = max_pool(conv2, k=2)\n",
        "    # Apply Dropout\n",
        "    conv2 = tf.nn.dropout(conv2, _dropout)\n",
        "\n",
        "    # Fully connected layer\n",
        "    # Reshape conv2 output to fit dense layer input\n",
        "    dense1 = tf.reshape(conv2, [-1, _weights['wd1'].get_shape().as_list()[0]]) \n",
        "    # Relu activation\n",
        "    dense1 = tf.nn.relu(tf.add(tf.matmul(dense1, _weights['wd1']), _biases['bd1']))\n",
        "    # Apply Dropout\n",
        "    dense1 = tf.nn.dropout(dense1, _dropout) # Apply Dropout\n",
        "\n",
        "    # Output, class prediction\n",
        "    out = tf.add(tf.matmul(dense1, _weights['out']), _biases['out'])\n",
        "    return out"
      ],
      "execution_count": 14,
      "outputs": []
    },
    {
      "metadata": {
        "id": "CFVYoEKPW-k2",
        "colab_type": "code",
        "colab": {
          "autoexec": {
            "startup": false,
            "wait_interval": 0
          },
          "base_uri": "https://localhost:8080/",
          "height": 17
        },
        "outputId": "3edb7930-d41e-42e0-b057-fe690f512dad",
        "executionInfo": {
          "status": "ok",
          "timestamp": 1528898383076,
          "user_tz": -120,
          "elapsed": 678,
          "user": {
            "displayName": "",
            "photoUrl": "",
            "userId": ""
          }
        }
      },
      "cell_type": "code",
      "source": [
        "# Store layers weight & bias\n",
        "weights = {\n",
        "    # 5x5 conv, 1 input, 32 outputs\n",
        "    'wc1': tf.Variable(tf.random_normal([5, 5, 1, 9],stddev=0.01)), \n",
        "    # 5x5 conv, 32 inputs, 32 outputs\n",
        "    'wc2': tf.Variable(tf.truncated_normal([3, 3, 9, 9],stddev=0.01)), \n",
        "    # fully connected, 16*16*32 inputs, 1024 outputs\n",
        "    'wd1': tf.Variable(tf.truncated_normal([16*16*9, 16],stddev=0.01)), \n",
        "    # 128 inputs, 2 outputs (class prediction)\n",
        "    'out': tf.Variable(tf.truncated_normal([16, n_classes])) \n",
        "}\n",
        "\n",
        "biases = {\n",
        "    'bc1': tf.Variable(tf.random_normal([9])),\n",
        "    'bc2': tf.Variable(tf.random_normal([9])),\n",
        "    'bd1': tf.Variable(tf.random_normal([16])),\n",
        "    'out': tf.Variable(tf.random_normal([n_classes]))\n",
        "}"
      ],
      "execution_count": 15,
      "outputs": []
    },
    {
      "metadata": {
        "id": "k0x-Snv7W-k5",
        "colab_type": "code",
        "colab": {
          "autoexec": {
            "startup": false,
            "wait_interval": 0
          },
          "base_uri": "https://localhost:8080/",
          "height": 17
        },
        "outputId": "556c9dba-9a7e-4dda-e2dc-a0e2c50c447f",
        "executionInfo": {
          "status": "ok",
          "timestamp": 1528898384229,
          "user_tz": -120,
          "elapsed": 668,
          "user": {
            "displayName": "",
            "photoUrl": "",
            "userId": ""
          }
        }
      },
      "cell_type": "code",
      "source": [
        "# Construct model\n",
        "pred = conv_net(x, weights, biases, keep_prob)"
      ],
      "execution_count": 16,
      "outputs": []
    },
    {
      "metadata": {
        "id": "VHisVNcpW-k8",
        "colab_type": "code",
        "colab": {
          "autoexec": {
            "startup": false,
            "wait_interval": 0
          },
          "base_uri": "https://localhost:8080/",
          "height": 17
        },
        "outputId": "e01c064c-33f7-45d9-d00c-5f8b980acda3",
        "executionInfo": {
          "status": "ok",
          "timestamp": 1528898448222,
          "user_tz": -120,
          "elapsed": 661,
          "user": {
            "displayName": "",
            "photoUrl": "",
            "userId": ""
          }
        }
      },
      "cell_type": "code",
      "source": [
        "# Define loss and optimizer\n",
        "cost = tf.reduce_mean(tf.nn.softmax_cross_entropy_with_logits(logits=pred, labels=y))\n",
        "#cost = tf.reduce_mean(tf.nn.weighted_cross_entropy_with_logits(logits=pred, labels=y,pos_weight=10))\n",
        "optimizer = tf.train.AdamOptimizer(learning_rate=learning_rate).minimize(cost)"
      ],
      "execution_count": 18,
      "outputs": []
    },
    {
      "metadata": {
        "id": "az2ceUyIW-k-",
        "colab_type": "code",
        "colab": {
          "autoexec": {
            "startup": false,
            "wait_interval": 0
          },
          "base_uri": "https://localhost:8080/",
          "height": 17
        },
        "outputId": "83551d7a-df24-4287-aebc-bdcf1955813f",
        "executionInfo": {
          "status": "ok",
          "timestamp": 1528898452208,
          "user_tz": -120,
          "elapsed": 670,
          "user": {
            "displayName": "",
            "photoUrl": "",
            "userId": ""
          }
        }
      },
      "cell_type": "code",
      "source": [
        "# Evaluate model\n",
        "correct_pred = tf.equal(tf.argmax(pred,1), tf.argmax(y,1))\n",
        "accuracy = tf.reduce_mean(tf.cast(correct_pred, tf.float32))"
      ],
      "execution_count": 19,
      "outputs": []
    },
    {
      "metadata": {
        "id": "4wdEYtRjW-lB",
        "colab_type": "code",
        "colab": {
          "autoexec": {
            "startup": false,
            "wait_interval": 0
          },
          "base_uri": "https://localhost:8080/",
          "height": 17
        },
        "outputId": "feb901ab-dbe7-4579-87ca-cb889b00a4f8",
        "executionInfo": {
          "status": "ok",
          "timestamp": 1528898453529,
          "user_tz": -120,
          "elapsed": 761,
          "user": {
            "displayName": "",
            "photoUrl": "",
            "userId": ""
          }
        }
      },
      "cell_type": "code",
      "source": [
        "# Initializing the variables\n",
        "init = tf.global_variables_initializer()"
      ],
      "execution_count": 20,
      "outputs": []
    },
    {
      "metadata": {
        "id": "1HXtlBzSW-lD",
        "colab_type": "code",
        "colab": {
          "autoexec": {
            "startup": false,
            "wait_interval": 0
          },
          "base_uri": "https://localhost:8080/",
          "height": 4535
        },
        "outputId": "137b5b2d-21ca-4a86-c6d0-59163f8c5025",
        "executionInfo": {
          "status": "ok",
          "timestamp": 1528900132739,
          "user_tz": -120,
          "elapsed": 106292,
          "user": {
            "displayName": "",
            "photoUrl": "",
            "userId": ""
          }
        }
      },
      "cell_type": "code",
      "source": [
        "import matplotlib.pyplot as plt\n",
        "%matplotlib inline\n",
        "X_train = X_train.reshape(X_train.shape[0],1024)\n",
        "\n",
        "# Launch the graph\n",
        "with tf.Session() as sess:\n",
        "    sess.run(init)\n",
        "  \n",
        "    for epoch in range(training_epochs):\n",
        "        step = 1\n",
        "        # Keep training until reach max iterations\n",
        "        while step * batch_size < training_iters:\n",
        "            batch_xs, batch_ys = X_train[(batch_size*(step-1)):batch_size*(step)],y_train[(batch_size*(step-1)):batch_size*(step)]\n",
        "            # Fit training using batch data\n",
        "            sess.run(optimizer, feed_dict={x: batch_xs, y: batch_ys, keep_prob: dropout})\n",
        "            step += 1\n",
        "        # Calculate batch accuracy\n",
        "        if(epoch%1 == 0):\n",
        "            # Calculate batch loss\n",
        "            acc,conv1filter = sess.run([accuracy,weights['wc1']], feed_dict={x: batch_xs, y: batch_ys, keep_prob: 1.})\n",
        "            loss = sess.run(cost, feed_dict={x: batch_xs, y: batch_ys, keep_prob: 1.})\n",
        "            print \"Epoch \" + str(epoch) + \", Minibatch Loss= \" + \\\n",
        "                          \"{:.6f}\".format(loss) + \", Training Accuracy= \" + \"{:.5f}\".format(acc)\n",
        "        if(epoch%50 == 0):\n",
        "            #acc = sess.run(accuracy, feed_dict={x: batch_xs, y: batch_ys, keep_prob: 1.})\n",
        "            plt.figure()\n",
        "            #plt.matshow(make_mosaic(conv1filter.reshape(9,32).T, 4),cmap=\"gray\")\n",
        "            plt.matshow(conv1filter[:,:,0,1],cmap=\"gray\")\n",
        "            plt.show()\n",
        "            \n",
        "            \n",
        "    print \"Optimization Finished!\"\n",
        "    # Calculate accuracy for 256 mnist test images\n",
        "    print \"Testing Accuracy:\", sess.run(accuracy, feed_dict={x: X_test, \n",
        "                                                                 y: y_test, \n",
        "                                                                 keep_prob: 1.})"
      ],
      "execution_count": 22,
      "outputs": [
        {
          "output_type": "stream",
          "text": [
            "Epoch 0, Minibatch Loss= 0.611996, Training Accuracy= 0.71094\n"
          ],
          "name": "stdout"
        },
        {
          "output_type": "display_data",
          "data": {
            "text/plain": [
              "<matplotlib.figure.Figure at 0x7faa7e59e210>"
            ]
          },
          "metadata": {
            "tags": []
          }
        },
        {
          "output_type": "display_data",
          "data": {
            "image/png": "[encoded data removed]",
            "text/plain": [
              "<matplotlib.figure.Figure at 0x7faa7e59e950>"
            ]
          },
          "metadata": {
            "tags": []
          }
        },
        {
          "output_type": "stream",
          "text": [
            "Epoch 1, Minibatch Loss= 0.607442, Training Accuracy= 0.71094\n",
            "Epoch 2, Minibatch Loss= 0.605553, Training Accuracy= 0.71094\n",
            "Epoch 3, Minibatch Loss= 0.607316, Training Accuracy= 0.71094\n",
            "Epoch 4, Minibatch Loss= 0.612247, Training Accuracy= 0.71094\n",
            "Epoch 5, Minibatch Loss= 0.608633, Training Accuracy= 0.71094\n",
            "Epoch 6, Minibatch Loss= 0.605847, Training Accuracy= 0.71094\n",
            "Epoch 7, Minibatch Loss= 0.603595, Training Accuracy= 0.71094\n",
            "Epoch 8, Minibatch Loss= 0.602792, Training Accuracy= 0.71094\n",
            "Epoch 9, Minibatch Loss= 0.603394, Training Accuracy= 0.71094\n",
            "Epoch 10, Minibatch Loss= 0.462744, Training Accuracy= 0.77344\n",
            "Epoch 11, Minibatch Loss= 0.439065, Training Accuracy= 0.81250\n",
            "Epoch 12, Minibatch Loss= 0.433965, Training Accuracy= 0.81250\n",
            "Epoch 13, Minibatch Loss= 0.409741, Training Accuracy= 0.82812\n",
            "Epoch 14, Minibatch Loss= 0.362261, Training Accuracy= 0.84375\n",
            "Epoch 15, Minibatch Loss= 0.349903, Training Accuracy= 0.85938\n",
            "Epoch 16, Minibatch Loss= 0.341421, Training Accuracy= 0.82812\n",
            "Epoch 17, Minibatch Loss= 0.328266, Training Accuracy= 0.85156\n",
            "Epoch 18, Minibatch Loss= 0.318911, Training Accuracy= 0.89844\n",
            "Epoch 19, Minibatch Loss= 0.321192, Training Accuracy= 0.87500\n",
            "Epoch 20, Minibatch Loss= 0.314018, Training Accuracy= 0.87500\n",
            "Epoch 21, Minibatch Loss= 0.312536, Training Accuracy= 0.89844\n",
            "Epoch 22, Minibatch Loss= 0.309984, Training Accuracy= 0.89062\n",
            "Epoch 23, Minibatch Loss= 0.305539, Training Accuracy= 0.86719\n",
            "Epoch 24, Minibatch Loss= 0.307744, Training Accuracy= 0.87500\n",
            "Epoch 25, Minibatch Loss= 0.301861, Training Accuracy= 0.87500\n",
            "Epoch 26, Minibatch Loss= 0.305608, Training Accuracy= 0.87500\n",
            "Epoch 27, Minibatch Loss= 0.294379, Training Accuracy= 0.86719\n",
            "Epoch 28, Minibatch Loss= 0.292238, Training Accuracy= 0.87500\n",
            "Epoch 29, Minibatch Loss= 0.285174, Training Accuracy= 0.87500\n",
            "Epoch 30, Minibatch Loss= 0.280389, Training Accuracy= 0.86719\n",
            "Epoch 31, Minibatch Loss= 0.290519, Training Accuracy= 0.87500\n",
            "Epoch 32, Minibatch Loss= 0.285243, Training Accuracy= 0.87500\n",
            "Epoch 33, Minibatch Loss= 0.288230, Training Accuracy= 0.86719\n",
            "Epoch 34, Minibatch Loss= 0.289111, Training Accuracy= 0.87500\n",
            "Epoch 35, Minibatch Loss= 0.286885, Training Accuracy= 0.87500\n",
            "Epoch 36, Minibatch Loss= 0.264373, Training Accuracy= 0.88281\n",
            "Epoch 37, Minibatch Loss= 0.274166, Training Accuracy= 0.88281\n",
            "Epoch 38, Minibatch Loss= 0.279899, Training Accuracy= 0.86719\n",
            "Epoch 39, Minibatch Loss= 0.281272, Training Accuracy= 0.88281\n",
            "Epoch 40, Minibatch Loss= 0.268794, Training Accuracy= 0.89062\n",
            "Epoch 41, Minibatch Loss= 0.260420, Training Accuracy= 0.86719\n",
            "Epoch 42, Minibatch Loss= 0.262225, Training Accuracy= 0.88281\n",
            "Epoch 43, Minibatch Loss= 0.252285, Training Accuracy= 0.88281\n",
            "Epoch 44, Minibatch Loss= 0.257998, Training Accuracy= 0.88281\n",
            "Epoch 45, Minibatch Loss= 0.273114, Training Accuracy= 0.89062\n",
            "Epoch 46, Minibatch Loss= 0.257592, Training Accuracy= 0.88281\n",
            "Epoch 47, Minibatch Loss= 0.258044, Training Accuracy= 0.89062\n",
            "Epoch 48, Minibatch Loss= 0.274353, Training Accuracy= 0.89844\n",
            "Epoch 49, Minibatch Loss= 0.258749, Training Accuracy= 0.88281\n",
            "Epoch 50, Minibatch Loss= 0.263958, Training Accuracy= 0.88281\n"
          ],
          "name": "stdout"
        },
        {
          "output_type": "display_data",
          "data": {
            "text/plain": [
              "<matplotlib.figure.Figure at 0x7faa7dd03090>"
            ]
          },
          "metadata": {
            "tags": []
          }
        },
        {
          "output_type": "display_data",
          "data": {
            "image/png": "[encoded data removed]",
            "text/plain": [
              "<matplotlib.figure.Figure at 0x7faa7dd670d0>"
            ]
          },
          "metadata": {
            "tags": []
          }
        },
        {
          "output_type": "stream",
          "text": [
            "Epoch 51, Minibatch Loss= 0.261846, Training Accuracy= 0.88281\n",
            "Epoch 52, Minibatch Loss= 0.244239, Training Accuracy= 0.88281\n",
            "Epoch 53, Minibatch Loss= 0.257954, Training Accuracy= 0.88281\n",
            "Epoch 54, Minibatch Loss= 0.245254, Training Accuracy= 0.88281\n",
            "Epoch 55, Minibatch Loss= 0.251888, Training Accuracy= 0.88281\n",
            "Epoch 56, Minibatch Loss= 0.256388, Training Accuracy= 0.89062\n",
            "Epoch 57, Minibatch Loss= 0.238978, Training Accuracy= 0.89062\n",
            "Epoch 58, Minibatch Loss= 0.263363, Training Accuracy= 0.88281\n",
            "Epoch 59, Minibatch Loss= 0.251489, Training Accuracy= 0.88281\n",
            "Epoch 60, Minibatch Loss= 0.258244, Training Accuracy= 0.89062\n",
            "Epoch 61, Minibatch Loss= 0.252381, Training Accuracy= 0.88281\n",
            "Epoch 62, Minibatch Loss= 0.238445, Training Accuracy= 0.89062\n",
            "Epoch 63, Minibatch Loss= 0.243096, Training Accuracy= 0.88281\n",
            "Epoch 64, Minibatch Loss= 0.233090, Training Accuracy= 0.89062\n",
            "Epoch 65, Minibatch Loss= 0.235218, Training Accuracy= 0.89062\n",
            "Epoch 66, Minibatch Loss= 0.236992, Training Accuracy= 0.88281\n",
            "Epoch 67, Minibatch Loss= 0.239295, Training Accuracy= 0.89062\n",
            "Epoch 68, Minibatch Loss= 0.233461, Training Accuracy= 0.88281\n",
            "Epoch 69, Minibatch Loss= 0.239448, Training Accuracy= 0.89844\n",
            "Epoch 70, Minibatch Loss= 0.228829, Training Accuracy= 0.89062\n",
            "Epoch 71, Minibatch Loss= 0.223174, Training Accuracy= 0.88281\n",
            "Epoch 72, Minibatch Loss= 0.231238, Training Accuracy= 0.89062\n",
            "Epoch 73, Minibatch Loss= 0.233150, Training Accuracy= 0.88281\n",
            "Epoch 74, Minibatch Loss= 0.228610, Training Accuracy= 0.89062\n",
            "Epoch 75, Minibatch Loss= 0.218330, Training Accuracy= 0.88281\n",
            "Epoch 76, Minibatch Loss= 0.216359, Training Accuracy= 0.89062\n",
            "Epoch 77, Minibatch Loss= 0.218340, Training Accuracy= 0.88281\n",
            "Epoch 78, Minibatch Loss= 0.212195, Training Accuracy= 0.89844\n",
            "Epoch 79, Minibatch Loss= 0.215222, Training Accuracy= 0.89062\n",
            "Epoch 80, Minibatch Loss= 0.216110, Training Accuracy= 0.89062\n",
            "Epoch 81, Minibatch Loss= 0.214090, Training Accuracy= 0.89844\n",
            "Epoch 82, Minibatch Loss= 0.215830, Training Accuracy= 0.88281\n",
            "Epoch 83, Minibatch Loss= 0.213382, Training Accuracy= 0.88281\n",
            "Epoch 84, Minibatch Loss= 0.213158, Training Accuracy= 0.89844\n",
            "Epoch 85, Minibatch Loss= 0.207001, Training Accuracy= 0.89844\n",
            "Epoch 86, Minibatch Loss= 0.209830, Training Accuracy= 0.90625\n",
            "Epoch 87, Minibatch Loss= 0.215089, Training Accuracy= 0.89844\n",
            "Epoch 88, Minibatch Loss= 0.209033, Training Accuracy= 0.89844\n",
            "Epoch 89, Minibatch Loss= 0.211857, Training Accuracy= 0.89844\n",
            "Epoch 90, Minibatch Loss= 0.219696, Training Accuracy= 0.90625\n",
            "Epoch 91, Minibatch Loss= 0.206273, Training Accuracy= 0.91406\n",
            "Epoch 92, Minibatch Loss= 0.197602, Training Accuracy= 0.91406\n",
            "Epoch 93, Minibatch Loss= 0.197952, Training Accuracy= 0.89062\n",
            "Epoch 94, Minibatch Loss= 0.201130, Training Accuracy= 0.89844\n",
            "Epoch 95, Minibatch Loss= 0.198748, Training Accuracy= 0.90625\n",
            "Epoch 96, Minibatch Loss= 0.195487, Training Accuracy= 0.90625\n",
            "Epoch 97, Minibatch Loss= 0.193420, Training Accuracy= 0.90625\n",
            "Epoch 98, Minibatch Loss= 0.196429, Training Accuracy= 0.91406\n",
            "Epoch 99, Minibatch Loss= 0.194404, Training Accuracy= 0.91406\n",
            "Epoch 100, Minibatch Loss= 0.191205, Training Accuracy= 0.91406\n"
          ],
          "name": "stdout"
        },
        {
          "output_type": "display_data",
          "data": {
            "text/plain": [
              "<matplotlib.figure.Figure at 0x7faa7dcf1e10>"
            ]
          },
          "metadata": {
            "tags": []
          }
        },
        {
          "output_type": "display_data",
          "data": {
            "image/png": "[encoded data removed]",
            "text/plain": [
              "<matplotlib.figure.Figure at 0x7faa7dd375d0>"
            ]
          },
          "metadata": {
            "tags": []
          }
        },
        {
          "output_type": "stream",
          "text": [
            "Epoch 101, Minibatch Loss= 0.191629, Training Accuracy= 0.90625\n",
            "Epoch 102, Minibatch Loss= 0.189242, Training Accuracy= 0.90625\n",
            "Epoch 103, Minibatch Loss= 0.189834, Training Accuracy= 0.91406\n",
            "Epoch 104, Minibatch Loss= 0.177678, Training Accuracy= 0.92188\n",
            "Epoch 105, Minibatch Loss= 0.182002, Training Accuracy= 0.91406\n",
            "Epoch 106, Minibatch Loss= 0.185010, Training Accuracy= 0.90625\n",
            "Epoch 107, Minibatch Loss= 0.185250, Training Accuracy= 0.92969\n",
            "Epoch 108, Minibatch Loss= 0.180499, Training Accuracy= 0.92188\n",
            "Epoch 109, Minibatch Loss= 0.177998, Training Accuracy= 0.92969\n",
            "Epoch 110, Minibatch Loss= 0.179700, Training Accuracy= 0.92969\n",
            "Epoch 111, Minibatch Loss= 0.186472, Training Accuracy= 0.93750\n",
            "Epoch 112, Minibatch Loss= 0.178675, Training Accuracy= 0.92188\n",
            "Epoch 113, Minibatch Loss= 0.188687, Training Accuracy= 0.92188\n",
            "Epoch 114, Minibatch Loss= 0.183627, Training Accuracy= 0.91406\n",
            "Epoch 115, Minibatch Loss= 0.173062, Training Accuracy= 0.92969\n",
            "Epoch 116, Minibatch Loss= 0.178782, Training Accuracy= 0.92969\n",
            "Epoch 117, Minibatch Loss= 0.175890, Training Accuracy= 0.92969\n",
            "Epoch 118, Minibatch Loss= 0.174105, Training Accuracy= 0.92969\n",
            "Epoch 119, Minibatch Loss= 0.176644, Training Accuracy= 0.92969\n",
            "Epoch 120, Minibatch Loss= 0.175498, Training Accuracy= 0.92969\n",
            "Epoch 121, Minibatch Loss= 0.175397, Training Accuracy= 0.92969\n",
            "Epoch 122, Minibatch Loss= 0.172117, Training Accuracy= 0.92969\n",
            "Epoch 123, Minibatch Loss= 0.168415, Training Accuracy= 0.92969\n",
            "Epoch 124, Minibatch Loss= 0.169685, Training Accuracy= 0.93750\n",
            "Epoch 125, Minibatch Loss= 0.173839, Training Accuracy= 0.92969\n",
            "Epoch 126, Minibatch Loss= 0.171613, Training Accuracy= 0.92969\n",
            "Epoch 127, Minibatch Loss= 0.166094, Training Accuracy= 0.92969\n",
            "Epoch 128, Minibatch Loss= 0.169161, Training Accuracy= 0.92969\n",
            "Epoch 129, Minibatch Loss= 0.176042, Training Accuracy= 0.93750\n",
            "Epoch 130, Minibatch Loss= 0.173982, Training Accuracy= 0.92969\n",
            "Epoch 131, Minibatch Loss= 0.174671, Training Accuracy= 0.92969\n",
            "Epoch 132, Minibatch Loss= 0.164634, Training Accuracy= 0.92969\n",
            "Epoch 133, Minibatch Loss= 0.167935, Training Accuracy= 0.92969\n",
            "Epoch 134, Minibatch Loss= 0.163291, Training Accuracy= 0.93750\n",
            "Epoch 135, Minibatch Loss= 0.169030, Training Accuracy= 0.92969\n",
            "Epoch 136, Minibatch Loss= 0.169393, Training Accuracy= 0.92969\n",
            "Epoch 137, Minibatch Loss= 0.162105, Training Accuracy= 0.92969\n",
            "Epoch 138, Minibatch Loss= 0.163228, Training Accuracy= 0.92969\n",
            "Epoch 139, Minibatch Loss= 0.154885, Training Accuracy= 0.92969\n",
            "Epoch 140, Minibatch Loss= 0.163210, Training Accuracy= 0.92969\n",
            "Epoch 141, Minibatch Loss= 0.159860, Training Accuracy= 0.92969\n",
            "Epoch 142, Minibatch Loss= 0.156822, Training Accuracy= 0.92969\n",
            "Epoch 143, Minibatch Loss= 0.149417, Training Accuracy= 0.93750\n",
            "Epoch 144, Minibatch Loss= 0.156858, Training Accuracy= 0.94531\n",
            "Epoch 145, Minibatch Loss= 0.159273, Training Accuracy= 0.93750\n",
            "Epoch 146, Minibatch Loss= 0.166010, Training Accuracy= 0.92969\n",
            "Epoch 147, Minibatch Loss= 0.155641, Training Accuracy= 0.92969\n",
            "Epoch 148, Minibatch Loss= 0.163028, Training Accuracy= 0.93750\n",
            "Epoch 149, Minibatch Loss= 0.153336, Training Accuracy= 0.93750\n",
            "Epoch 150, Minibatch Loss= 0.165982, Training Accuracy= 0.93750\n"
          ],
          "name": "stdout"
        },
        {
          "output_type": "display_data",
          "data": {
            "text/plain": [
              "<matplotlib.figure.Figure at 0x7faa7e59e190>"
            ]
          },
          "metadata": {
            "tags": []
          }
        },
        {
          "output_type": "display_data",
          "data": {
            "image/png": "[encoded data removed]",
            "text/plain": [
              "<matplotlib.figure.Figure at 0x7faa7dc90510>"
            ]
          },
          "metadata": {
            "tags": []
          }
        },
        {
          "output_type": "stream",
          "text": [
            "Epoch 151, Minibatch Loss= 0.164813, Training Accuracy= 0.93750\n",
            "Epoch 152, Minibatch Loss= 0.152923, Training Accuracy= 0.92969\n",
            "Epoch 153, Minibatch Loss= 0.151971, Training Accuracy= 0.92969\n",
            "Epoch 154, Minibatch Loss= 0.153406, Training Accuracy= 0.92969\n",
            "Epoch 155, Minibatch Loss= 0.157481, Training Accuracy= 0.93750\n",
            "Epoch 156, Minibatch Loss= 0.151088, Training Accuracy= 0.93750\n",
            "Epoch 157, Minibatch Loss= 0.158719, Training Accuracy= 0.92969\n",
            "Epoch 158, Minibatch Loss= 0.147783, Training Accuracy= 0.93750\n",
            "Epoch 159, Minibatch Loss= 0.149787, Training Accuracy= 0.93750\n",
            "Epoch 160, Minibatch Loss= 0.160005, Training Accuracy= 0.93750\n",
            "Epoch 161, Minibatch Loss= 0.151069, Training Accuracy= 0.92969\n",
            "Epoch 162, Minibatch Loss= 0.155015, Training Accuracy= 0.93750\n",
            "Epoch 163, Minibatch Loss= 0.149144, Training Accuracy= 0.93750\n",
            "Epoch 164, Minibatch Loss= 0.160730, Training Accuracy= 0.93750\n",
            "Epoch 165, Minibatch Loss= 0.148410, Training Accuracy= 0.93750\n",
            "Epoch 166, Minibatch Loss= 0.152137, Training Accuracy= 0.92969\n",
            "Epoch 167, Minibatch Loss= 0.156116, Training Accuracy= 0.93750\n",
            "Epoch 168, Minibatch Loss= 0.152011, Training Accuracy= 0.92969\n",
            "Epoch 169, Minibatch Loss= 0.143758, Training Accuracy= 0.93750\n",
            "Epoch 170, Minibatch Loss= 0.152900, Training Accuracy= 0.94531\n",
            "Epoch 171, Minibatch Loss= 0.140958, Training Accuracy= 0.94531\n",
            "Epoch 172, Minibatch Loss= 0.144391, Training Accuracy= 0.93750\n",
            "Epoch 173, Minibatch Loss= 0.148957, Training Accuracy= 0.94531\n",
            "Epoch 174, Minibatch Loss= 0.140613, Training Accuracy= 0.94531\n",
            "Epoch 175, Minibatch Loss= 0.142666, Training Accuracy= 0.93750\n",
            "Epoch 176, Minibatch Loss= 0.141196, Training Accuracy= 0.93750\n",
            "Epoch 177, Minibatch Loss= 0.134079, Training Accuracy= 0.93750\n",
            "Epoch 178, Minibatch Loss= 0.147993, Training Accuracy= 0.92969\n",
            "Epoch 179, Minibatch Loss= 0.138000, Training Accuracy= 0.94531\n",
            "Epoch 180, Minibatch Loss= 0.140895, Training Accuracy= 0.94531\n",
            "Epoch 181, Minibatch Loss= 0.137965, Training Accuracy= 0.93750\n",
            "Epoch 182, Minibatch Loss= 0.133837, Training Accuracy= 0.94531\n",
            "Epoch 183, Minibatch Loss= 0.128706, Training Accuracy= 0.94531\n",
            "Epoch 184, Minibatch Loss= 0.132690, Training Accuracy= 0.94531\n",
            "Epoch 185, Minibatch Loss= 0.133619, Training Accuracy= 0.93750\n",
            "Epoch 186, Minibatch Loss= 0.138671, Training Accuracy= 0.96094\n",
            "Epoch 187, Minibatch Loss= 0.127538, Training Accuracy= 0.94531\n",
            "Epoch 188, Minibatch Loss= 0.132626, Training Accuracy= 0.94531\n",
            "Epoch 189, Minibatch Loss= 0.129227, Training Accuracy= 0.94531\n",
            "Epoch 190, Minibatch Loss= 0.125090, Training Accuracy= 0.92969\n",
            "Epoch 191, Minibatch Loss= 0.133131, Training Accuracy= 0.93750\n",
            "Epoch 192, Minibatch Loss= 0.124095, Training Accuracy= 0.93750\n",
            "Epoch 193, Minibatch Loss= 0.129130, Training Accuracy= 0.93750\n",
            "Epoch 194, Minibatch Loss= 0.122103, Training Accuracy= 0.93750\n",
            "Epoch 195, Minibatch Loss= 0.136685, Training Accuracy= 0.94531\n",
            "Epoch 196, Minibatch Loss= 0.128365, Training Accuracy= 0.94531\n",
            "Epoch 197, Minibatch Loss= 0.131088, Training Accuracy= 0.94531\n",
            "Epoch 198, Minibatch Loss= 0.128767, Training Accuracy= 0.94531\n",
            "Epoch 199, Minibatch Loss= 0.144376, Training Accuracy= 0.95312\n",
            "Optimization Finished!\n",
            "Testing Accuracy: 0.90205014\n"
          ],
          "name": "stdout"
        }
      ]
    },
    {
      "metadata": {
        "id": "MiyvgETYW-lF",
        "colab_type": "code",
        "colab": {
          "autoexec": {
            "startup": false,
            "wait_interval": 0
          },
          "base_uri": "https://localhost:8080/",
          "height": 288
        },
        "outputId": "87bd995c-2edc-40e7-d054-089013b3c95b",
        "executionInfo": {
          "status": "ok",
          "timestamp": 1528897673978,
          "user_tz": -120,
          "elapsed": 1037,
          "user": {
            "displayName": "",
            "photoUrl": "",
            "userId": ""
          }
        }
      },
      "cell_type": "code",
      "source": [
        "plt.figure()\n",
        "plt.matshow(make_mosaic(conv1filter.reshape(25,9).T, 3),cmap=\"gray\")\n",
        "plt.show()"
      ],
      "execution_count": 25,
      "outputs": [
        {
          "output_type": "display_data",
          "data": {
            "text/plain": [
              "<matplotlib.figure.Figure at 0x7ffa6db58d50>"
            ]
          },
          "metadata": {
            "tags": []
          }
        },
        {
          "output_type": "display_data",
          "data": {
            "image/png": "[encoded data removed]",
            "text/plain": [
              "<matplotlib.figure.Figure at 0x7ffa6db58d90>"
            ]
          },
          "metadata": {
            "tags": []
          }
        }
      ]
    },
    {
      "metadata": {
        "id": "cwgMU7GHW-lH",
        "colab_type": "code",
        "colab": {
          "autoexec": {
            "startup": false,
            "wait_interval": 0
          },
          "base_uri": "https://localhost:8080/",
          "height": 17
        },
        "outputId": "86ecd4f2-b61b-4a3e-aa75-0a43579bf391",
        "executionInfo": {
          "status": "ok",
          "timestamp": 1528897674638,
          "user_tz": -120,
          "elapsed": 595,
          "user": {
            "displayName": "",
            "photoUrl": "",
            "userId": ""
          }
        }
      },
      "cell_type": "code",
      "source": [
        ""
      ],
      "execution_count": 25,
      "outputs": []
    }
  ]
}