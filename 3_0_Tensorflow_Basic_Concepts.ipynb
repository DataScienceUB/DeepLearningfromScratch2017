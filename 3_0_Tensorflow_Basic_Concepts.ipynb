{
  "nbformat": 4,
  "nbformat_minor": 0,
  "metadata": {
    "colab": {
      "name": "Copy of 3.0_Tensorflow_Basic_Concepts.ipynb",
      "version": "0.3.2",
      "views": {},
      "default_view": {},
      "provenance": [
        {
          "file_id": "https://github.com/DataScienceUB/DeepLearningfromScratch2017/blob/master/3.0_Tensorflow_Basic_Concepts.ipynb",
          "timestamp": 1528876983857
        }
      ]
    },
    "kernelspec": {
      "display_name": "Python 2",
      "language": "python",
      "name": "python2"
    }
  },
  "cells": [
    {
      "metadata": {
        "id": "1T3YlQlAKasq",
        "colab_type": "text"
      },
      "cell_type": "markdown",
      "source": [
        "# Start with TensorFlow"
      ]
    },
    {
      "metadata": {
        "id": "UKS4TJuQKasr",
        "colab_type": "text"
      },
      "cell_type": "markdown",
      "source": [
        "**What is TensorFlow?** TensorFlow is a deep learning library recently open-sourced by Google. It is a programming system in which you represent computations as **graphs**. Nodes in the graph are called ops (short for operations). An op takes zero or more **Tensors**, performs some computation, and produces zero or more Tensors. TensorFlow provides primitives for defining functions on tensors and automatically computing their derivatives. \n",
        "\n",
        "\n",
        "Formally, tensors are mulinear maps from vectors spaces to the real numbers. A Tensor can be represented as a multi-dimensional array of numbers. For example, you can represent a mini-batch of images as a 4-D array of floating point numbers with dimensions [batch, height, width, channels].\n",
        "\n",
        "Every operation of machine learning can be writen as a function on tensors\n",
        "\n",
        "**Why TensorFlow?**\n",
        "TensorFlow is quite similar to Numpy, the most important difference is that numpy doesn't offer methods to create tensors as a functions and automatically compute derivatives (also, numpy does not provide GPU support)\n",
        "\n",
        "**TensorFlow Mechanics:**\n",
        "* Prepare the Data\n",
        "    * Inputs and Placeholders\n",
        "* Build the Graph\n",
        "    * Inference\n",
        "    * Loss\n",
        "    * Training\n",
        "* Train The model\n",
        "    * The Session\n",
        "    * The Graph\n",
        "    * Train loop\n",
        "* Evaluate the model"
      ]
    },
    {
      "metadata": {
        "id": "yJ1z5E9eKass",
        "colab_type": "text"
      },
      "cell_type": "markdown",
      "source": [
        "### Simple Numpy Recap"
      ]
    },
    {
      "metadata": {
        "id": "Ui1C31FNKast",
        "colab_type": "code",
        "colab": {
          "autoexec": {
            "startup": false,
            "wait_interval": 0
          },
          "base_uri": "https://localhost:8080/",
          "height": 34
        },
        "outputId": "86c5e2bd-1813-4f83-9454-0a0130349415",
        "executionInfo": {
          "status": "ok",
          "timestamp": 1528876892789,
          "user_tz": -120,
          "elapsed": 1933,
          "user": {
            "displayName": "",
            "photoUrl": "",
            "userId": ""
          }
        }
      },
      "cell_type": "code",
      "source": [
        "import numpy as np\n",
        "\n",
        "a = np.zeros((2,2)); b = np.ones((2,2))\n",
        "print np.sum(b,axis=1)"
      ],
      "execution_count": 0,
      "outputs": [
        {
          "output_type": "stream",
          "text": [
            "[2. 2.]\n"
          ],
          "name": "stdout"
        }
      ]
    },
    {
      "metadata": {
        "id": "DU7hAMOWKasy",
        "colab_type": "code",
        "colab": {
          "autoexec": {
            "startup": false,
            "wait_interval": 0
          },
          "base_uri": "https://localhost:8080/",
          "height": 34
        },
        "outputId": "c2750ce6-c918-4422-bed2-1a5d23778be6",
        "executionInfo": {
          "status": "ok",
          "timestamp": 1528876893314,
          "user_tz": -120,
          "elapsed": 471,
          "user": {
            "displayName": "",
            "photoUrl": "",
            "userId": ""
          }
        }
      },
      "cell_type": "code",
      "source": [
        "print a.shape"
      ],
      "execution_count": 0,
      "outputs": [
        {
          "output_type": "stream",
          "text": [
            "(2, 2)\n"
          ],
          "name": "stdout"
        }
      ]
    },
    {
      "metadata": {
        "id": "LKBX4lB3Kas0",
        "colab_type": "code",
        "colab": {
          "autoexec": {
            "startup": false,
            "wait_interval": 0
          },
          "base_uri": "https://localhost:8080/",
          "height": 34
        },
        "outputId": "8a9ae586-a830-4152-eced-b33c0224619b",
        "executionInfo": {
          "status": "ok",
          "timestamp": 1528876893856,
          "user_tz": -120,
          "elapsed": 471,
          "user": {
            "displayName": "",
            "photoUrl": "",
            "userId": ""
          }
        }
      },
      "cell_type": "code",
      "source": [
        "print np.reshape(a,(1,4))"
      ],
      "execution_count": 0,
      "outputs": [
        {
          "output_type": "stream",
          "text": [
            "[[0. 0. 0. 0.]]\n"
          ],
          "name": "stdout"
        }
      ]
    },
    {
      "metadata": {
        "id": "Y1xzMctdKas3",
        "colab_type": "text"
      },
      "cell_type": "markdown",
      "source": [
        "### Let's do the same with TensorFlow"
      ]
    },
    {
      "metadata": {
        "id": "CjQmqu0rKas3",
        "colab_type": "code",
        "colab": {
          "autoexec": {
            "startup": false,
            "wait_interval": 0
          }
        }
      },
      "cell_type": "code",
      "source": [
        "import tensorflow as tf"
      ],
      "execution_count": 0,
      "outputs": []
    },
    {
      "metadata": {
        "id": "vvGYU2xHKas6",
        "colab_type": "code",
        "colab": {
          "autoexec": {
            "startup": false,
            "wait_interval": 0
          }
        }
      },
      "cell_type": "code",
      "source": [
        "sess = tf.InteractiveSession()"
      ],
      "execution_count": 0,
      "outputs": []
    },
    {
      "metadata": {
        "id": "IEUpYm9eKas8",
        "colab_type": "code",
        "colab": {
          "autoexec": {
            "startup": false,
            "wait_interval": 0
          }
        }
      },
      "cell_type": "code",
      "source": [
        "a = tf.zeros((2,2)); b = tf.ones((2,2))"
      ],
      "execution_count": 0,
      "outputs": []
    },
    {
      "metadata": {
        "id": "lXOzvHKYKas-",
        "colab_type": "code",
        "colab": {
          "autoexec": {
            "startup": false,
            "wait_interval": 0
          },
          "base_uri": "https://localhost:8080/",
          "height": 34
        },
        "outputId": "898c5815-11b5-4483-eb3b-9856e38fa25f",
        "executionInfo": {
          "status": "ok",
          "timestamp": 1528876897355,
          "user_tz": -120,
          "elapsed": 479,
          "user": {
            "displayName": "",
            "photoUrl": "",
            "userId": ""
          }
        }
      },
      "cell_type": "code",
      "source": [
        "tf.reduce_sum(b, reduction_indices=1).eval()"
      ],
      "execution_count": 0,
      "outputs": [
        {
          "output_type": "execute_result",
          "data": {
            "text/plain": [
              "array([2., 2.], dtype=float32)"
            ]
          },
          "metadata": {
            "tags": []
          },
          "execution_count": 7
        }
      ]
    },
    {
      "metadata": {
        "id": "FiVt3L6kKatB",
        "colab_type": "code",
        "colab": {
          "autoexec": {
            "startup": false,
            "wait_interval": 0
          },
          "base_uri": "https://localhost:8080/",
          "height": 34
        },
        "outputId": "a791be34-242f-4478-fa43-97e01b999568",
        "executionInfo": {
          "status": "ok",
          "timestamp": 1528876897926,
          "user_tz": -120,
          "elapsed": 515,
          "user": {
            "displayName": "",
            "photoUrl": "",
            "userId": ""
          }
        }
      },
      "cell_type": "code",
      "source": [
        "a.get_shape()"
      ],
      "execution_count": 0,
      "outputs": [
        {
          "output_type": "execute_result",
          "data": {
            "text/plain": [
              "TensorShape([Dimension(2), Dimension(2)])"
            ]
          },
          "metadata": {
            "tags": []
          },
          "execution_count": 8
        }
      ]
    },
    {
      "metadata": {
        "id": "s2nFBXH8KatD",
        "colab_type": "code",
        "colab": {
          "autoexec": {
            "startup": false,
            "wait_interval": 0
          },
          "base_uri": "https://localhost:8080/",
          "height": 34
        },
        "outputId": "35ef3926-9005-4654-9813-67c4d132b593",
        "executionInfo": {
          "status": "ok",
          "timestamp": 1528876898461,
          "user_tz": -120,
          "elapsed": 478,
          "user": {
            "displayName": "",
            "photoUrl": "",
            "userId": ""
          }
        }
      },
      "cell_type": "code",
      "source": [
        "tf.reshape(a, (1, 4)).eval()"
      ],
      "execution_count": 0,
      "outputs": [
        {
          "output_type": "execute_result",
          "data": {
            "text/plain": [
              "array([[0., 0., 0., 0.]], dtype=float32)"
            ]
          },
          "metadata": {
            "tags": []
          },
          "execution_count": 9
        }
      ]
    },
    {
      "metadata": {
        "id": "dDJdOAReKatG",
        "colab_type": "code",
        "colab": {
          "autoexec": {
            "startup": false,
            "wait_interval": 0
          },
          "base_uri": "https://localhost:8080/",
          "height": 68
        },
        "outputId": "d58f4448-200d-4a5f-d57f-d65c1e00dc9c",
        "executionInfo": {
          "status": "ok",
          "timestamp": 1528876898993,
          "user_tz": -120,
          "elapsed": 468,
          "user": {
            "displayName": "",
            "photoUrl": "",
            "userId": ""
          }
        }
      },
      "cell_type": "code",
      "source": [
        "a = np.zeros((2,2))\n",
        "ta = tf.zeros((2,2))\n",
        "print a\n",
        "print ta"
      ],
      "execution_count": 0,
      "outputs": [
        {
          "output_type": "stream",
          "text": [
            "[[0. 0.]\n",
            " [0. 0.]]\n",
            "Tensor(\"zeros_1:0\", shape=(2, 2), dtype=float32)\n"
          ],
          "name": "stdout"
        }
      ]
    },
    {
      "metadata": {
        "id": "KVA0jfOiKatI",
        "colab_type": "text"
      },
      "cell_type": "markdown",
      "source": [
        "TensorFlow computations define a **computation graph** that has no numerical value until it is evaluated!"
      ]
    },
    {
      "metadata": {
        "id": "SoZ-rKFlKatK",
        "colab_type": "code",
        "colab": {
          "autoexec": {
            "startup": false,
            "wait_interval": 0
          },
          "base_uri": "https://localhost:8080/",
          "height": 51
        },
        "outputId": "0be9394e-8d69-4cea-e86e-af5d2183896b",
        "executionInfo": {
          "status": "ok",
          "timestamp": 1528876899762,
          "user_tz": -120,
          "elapsed": 719,
          "user": {
            "displayName": "",
            "photoUrl": "",
            "userId": ""
          }
        }
      },
      "cell_type": "code",
      "source": [
        "print ta.eval()"
      ],
      "execution_count": 0,
      "outputs": [
        {
          "output_type": "stream",
          "text": [
            "[[0. 0.]\n",
            " [0. 0.]]\n"
          ],
          "name": "stdout"
        }
      ]
    },
    {
      "metadata": {
        "id": "kkVpaRnmKatO",
        "colab_type": "text"
      },
      "cell_type": "markdown",
      "source": [
        "## Placeholders \n",
        "TensorFlow provides a placeholder operation that must be fed with data on execution. It will be used to load input data to the model.\n",
        "```python\n",
        "x = tf.placeholder(tf.float32, shape=(2, 2))\n",
        "y = tf.matmul(x, x)\n",
        "\n",
        "with tf.Session() as sess:\n",
        "  print(sess.run(y))  # ERROR: will fail because x was not fed.\n",
        "\n",
        "  rand_array = np.random.rand(2, 2) # we should get data from some training data\n",
        "  print(sess.run(y, feed_dict={x: rand_array}))  # Will succeed.\n",
        "```"
      ]
    },
    {
      "metadata": {
        "id": "2DlZ5CimKatO",
        "colab_type": "code",
        "colab": {
          "autoexec": {
            "startup": false,
            "wait_interval": 0
          },
          "base_uri": "https://localhost:8080/",
          "height": 51
        },
        "outputId": "47eac32d-f1b7-4d53-e1aa-ad267c3576e6",
        "executionInfo": {
          "status": "ok",
          "timestamp": 1528876900313,
          "user_tz": -120,
          "elapsed": 434,
          "user": {
            "displayName": "",
            "photoUrl": "",
            "userId": ""
          }
        }
      },
      "cell_type": "code",
      "source": [
        "x = tf.placeholder(tf.float32, shape=(2, 2))\n",
        "y = tf.matmul(x, x)\n",
        "\n",
        "with tf.Session() as sess:\n",
        "    rand_array = np.random.rand(2, 2) # we should get data from some training data\n",
        "    print(sess.run(y, feed_dict={x: rand_array}))  "
      ],
      "execution_count": 0,
      "outputs": [
        {
          "output_type": "stream",
          "text": [
            "[[0.1691719  0.81318665]\n",
            " [0.19691426 1.0140883 ]]\n"
          ],
          "name": "stdout"
        }
      ]
    },
    {
      "metadata": {
        "id": "uSGNoMZGKatQ",
        "colab_type": "text"
      },
      "cell_type": "markdown",
      "source": [
        "## ** Session **\n",
        "A Session object encapsulates the environment in which Operation objects are executed, and Tensor objects are evaluated. A session may own resources, such as variables, queues, and readers. It is important to release these resources when they are no longer required. \n",
        "\n",
        "Three basic ways to work: \n",
        "\n",
        "1) Using the Session object:\n",
        "```python\n",
        "a = tf.constant(5.0)\n",
        "b = tf.constant(6.0)\n",
        "c = a * b\n",
        "sess = tf.Session()\n",
        "print sess.run(c)\n",
        "sess.close()\n",
        "```\n",
        "\n",
        "2) Using the context manager:\n",
        "```python\n",
        "a = tf.constant(5.0)\n",
        "b = tf.constant(6.0)\n",
        "c = a * b\n",
        "with tf.Session() as sess:\n",
        "  print(c.eval())\n",
        "```\n",
        "\n",
        "3) Using Interactive Session:\n",
        "```python\n",
        "sess = tf.InteractiveSession()\n",
        "a = tf.constant(5.0)\n",
        "b = tf.constant(6.0)\n",
        "c = a * b\n",
        "#We can just use 'c.eval()' without passing 'sess'\n",
        "print(c.eval())\n",
        "sess.close()\n",
        "```"
      ]
    },
    {
      "metadata": {
        "id": "ldRLT6v-KatQ",
        "colab_type": "text"
      },
      "cell_type": "markdown",
      "source": [
        "## Variables \n",
        "When you train a model, you use variables to hold and update parameters. Variables are in-memory buffers containing tensors. A tensorFlow variable does not exist until you initialize it, so they must be explicitly initialized and can be saved to disk during and after training. You can later restore saved values to exercise or analyse the model.\n"
      ]
    },
    {
      "metadata": {
        "id": "IfoQbbMFKatR",
        "colab_type": "code",
        "colab": {
          "autoexec": {
            "startup": false,
            "wait_interval": 0
          },
          "base_uri": "https://localhost:8080/",
          "height": 156
        },
        "outputId": "144f722a-49db-4b00-c7d0-21250457e12c",
        "executionInfo": {
          "status": "ok",
          "timestamp": 1528876901050,
          "user_tz": -120,
          "elapsed": 686,
          "user": {
            "displayName": "",
            "photoUrl": "",
            "userId": ""
          }
        }
      },
      "cell_type": "code",
      "source": [
        "W1 = tf.ones((2,2))\n",
        "W2 = tf.Variable(tf.zeros((2,2)),name = \"weights\")\n",
        "\n",
        "with tf.Session() as sess:\n",
        "    print(sess.run(W1))\n",
        "    sess.run(tf.global_variables_initializer())\n",
        "    print(sess.run(W2))"
      ],
      "execution_count": 0,
      "outputs": [
        {
          "output_type": "stream",
          "text": [
            "[[1. 1.]\n",
            " [1. 1.]]\n",
            "WARNING:tensorflow:From /usr/local/lib/python2.7/dist-packages/tensorflow/python/util/tf_should_use.py:118: initialize_all_variables (from tensorflow.python.ops.variables) is deprecated and will be removed after 2017-03-02.\n",
            "Instructions for updating:\n",
            "Use `tf.global_variables_initializer` instead.\n",
            "[[0. 0.]\n",
            " [0. 0.]]\n"
          ],
          "name": "stdout"
        }
      ]
    },
    {
      "metadata": {
        "id": "EocelWWzKatU",
        "colab_type": "code",
        "colab": {
          "autoexec": {
            "startup": false,
            "wait_interval": 0
          },
          "base_uri": "https://localhost:8080/",
          "height": 85
        },
        "outputId": "5cc00a58-cd79-4b09-bd00-7989e1362d56",
        "executionInfo": {
          "status": "ok",
          "timestamp": 1528876901579,
          "user_tz": -120,
          "elapsed": 469,
          "user": {
            "displayName": "",
            "photoUrl": "",
            "userId": ""
          }
        }
      },
      "cell_type": "code",
      "source": [
        "W = tf.Variable(tf.zeros((2,2)),name = \"weights\")\n",
        "R = tf.Variable(tf.random_normal((2,2)),name = \"random_weights\")\n",
        "\n",
        "with tf.Session() as sess:\n",
        "    sess.run(tf.initialize_all_variables())\n",
        "    print(sess.run(W))\n",
        "    print(sess.run(R))"
      ],
      "execution_count": 0,
      "outputs": [
        {
          "output_type": "stream",
          "text": [
            "[[0. 0.]\n",
            " [0. 0.]]\n",
            "[[-0.23605675  0.5006011 ]\n",
            " [ 0.14500828 -0.8684779 ]]\n"
          ],
          "name": "stdout"
        }
      ]
    },
    {
      "metadata": {
        "id": "Y3Yxyc4eKatY",
        "colab_type": "text"
      },
      "cell_type": "markdown",
      "source": [
        "## Our first TensorFlow program"
      ]
    },
    {
      "metadata": {
        "id": "ZKpjh4-QKatY",
        "colab_type": "code",
        "colab": {
          "autoexec": {
            "startup": false,
            "wait_interval": 0
          },
          "base_uri": "https://localhost:8080/",
          "height": 34
        },
        "outputId": "4f08a2e0-a7c1-4f01-db56-988d89fb5520",
        "executionInfo": {
          "status": "ok",
          "timestamp": 1528876902227,
          "user_tz": -120,
          "elapsed": 562,
          "user": {
            "displayName": "",
            "photoUrl": "",
            "userId": ""
          }
        }
      },
      "cell_type": "code",
      "source": [
        "import tensorflow as tf\n",
        "import numpy as np\n",
        "\n",
        "sess = tf.Session()\n",
        "x = tf.placeholder(tf.float32, shape=(1,3))\n",
        "w = tf.Variable(tf.random_normal([3,3]))\n",
        "y = tf.matmul(x, w)\n",
        "\n",
        "out = tf.nn.relu(y)\n",
        "\n",
        "sess = tf.Session()\n",
        "sess.run(tf.initialize_all_variables())\n",
        "print sess.run(out,feed_dict={x:np.array([[1.0,2.0,3.0]])})\n",
        "\n",
        "sess.close()"
      ],
      "execution_count": 0,
      "outputs": [
        {
          "output_type": "stream",
          "text": [
            "[[0.        4.6668377 0.       ]]\n"
          ],
          "name": "stdout"
        }
      ]
    },
    {
      "metadata": {
        "id": "DgKKOIBCKatb",
        "colab_type": "text"
      },
      "cell_type": "markdown",
      "source": [
        "## Let's try to do a simple counter"
      ]
    },
    {
      "metadata": {
        "id": "7f9-KHCRKatc",
        "colab_type": "code",
        "colab": {
          "autoexec": {
            "startup": false,
            "wait_interval": 0
          },
          "base_uri": "https://localhost:8080/",
          "height": 68
        },
        "outputId": "26193529-2ae3-4533-eace-65cf6361fbb3",
        "executionInfo": {
          "status": "ok",
          "timestamp": 1528876902762,
          "user_tz": -120,
          "elapsed": 485,
          "user": {
            "displayName": "",
            "photoUrl": "",
            "userId": ""
          }
        }
      },
      "cell_type": "code",
      "source": [
        "# Python code\n",
        "state = 0\n",
        "for _ in range(3):\n",
        "    state +=1\n",
        "    print state"
      ],
      "execution_count": 0,
      "outputs": [
        {
          "output_type": "stream",
          "text": [
            "1\n",
            "2\n",
            "3\n"
          ],
          "name": "stdout"
        }
      ]
    },
    {
      "metadata": {
        "id": "bxX8FfNlKatf",
        "colab_type": "code",
        "colab": {
          "autoexec": {
            "startup": false,
            "wait_interval": 0
          }
        }
      },
      "cell_type": "code",
      "source": [
        "# Your tensorflow code"
      ],
      "execution_count": 0,
      "outputs": []
    }
  ]
}