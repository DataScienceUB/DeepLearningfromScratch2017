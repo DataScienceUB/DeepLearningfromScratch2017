{
  "nbformat": 4,
  "nbformat_minor": 0,
  "metadata": {
    "colab": {
      "name": "3.1%20Linear%20Regression.ipynb",
      "version": "0.3.2",
      "views": {},
      "default_view": {},
      "provenance": []
    },
    "kernelspec": {
      "display_name": "Python 2",
      "language": "python",
      "name": "python2"
    }
  },
  "cells": [
    {
      "metadata": {
        "id": "L_CkNf-yMWIz",
        "colab_type": "text"
      },
      "cell_type": "markdown",
      "source": [
        "# A linear regression learning algorithm example using TensorFlow library."
      ]
    },
    {
      "metadata": {
        "id": "ssIuhJ9bMWI0",
        "colab_type": "text"
      },
      "cell_type": "markdown",
      "source": [
        "Linear regression model is one of the simplest regression models. It assumes linear relationship between X and Y. The output equation is defined as follows:\n",
        "$$\\hat{y} = WX + b$$\n"
      ]
    },
    {
      "metadata": {
        "id": "7HlKSkOWMWI0",
        "colab_type": "code",
        "colab": {
          "autoexec": {
            "startup": false,
            "wait_interval": 0
          },
          "base_uri": "https://localhost:8080/",
          "height": 17
        },
        "outputId": "22030420-2259-4154-b21e-a03f81e9334b",
        "executionInfo": {
          "status": "ok",
          "timestamp": 1528878085652,
          "user_tz": -120,
          "elapsed": 1698,
          "user": {
            "displayName": "",
            "photoUrl": "",
            "userId": ""
          }
        }
      },
      "cell_type": "code",
      "source": [
        "import numpy as np\n",
        "import matplotlib.pyplot as plt\n",
        "import pandas as pd\n",
        "%matplotlib inline"
      ],
      "execution_count": 1,
      "outputs": []
    },
    {
      "metadata": {
        "id": "YnZrCOZVMWI3",
        "colab_type": "code",
        "colab": {
          "autoexec": {
            "startup": false,
            "wait_interval": 0
          },
          "base_uri": "https://localhost:8080/",
          "height": 17
        },
        "outputId": "19c0a91b-c971-48a5-eb64-e5b085b3d9ce",
        "executionInfo": {
          "status": "ok",
          "timestamp": 1528878086265,
          "user_tz": -120,
          "elapsed": 546,
          "user": {
            "displayName": "",
            "photoUrl": "",
            "userId": ""
          }
        }
      },
      "cell_type": "code",
      "source": [
        "#  Training Parameters\n",
        "learning_rate = 1e-1\n",
        "training_epochs = 2000\n",
        "display_step = 200"
      ],
      "execution_count": 2,
      "outputs": []
    },
    {
      "metadata": {
        "id": "Hb9k9hjLMWI5",
        "colab_type": "code",
        "colab": {
          "autoexec": {
            "startup": false,
            "wait_interval": 0
          },
          "base_uri": "https://localhost:8080/",
          "height": 299
        },
        "outputId": "e39a11db-1861-4eea-83c5-edf74c77704e",
        "executionInfo": {
          "status": "ok",
          "timestamp": 1528878087007,
          "user_tz": -120,
          "elapsed": 633,
          "user": {
            "displayName": "",
            "photoUrl": "",
            "userId": ""
          }
        }
      },
      "cell_type": "code",
      "source": [
        "# Load data. Advertising dataset from \"An Introduction to Statistical Learning\",\n",
        "# textbook by Gareth James, Robert Tibshirani, and Trevor Hastie \n",
        "import numpy as np\n",
        "data = pd.read_csv('https://raw.githubusercontent.com/DataScienceUB/DeepLearningfromScratch2017/master/dataset/Advertising.csv',index_col=0, delimiter=',')\n",
        "train_X = data[['TV']].values \n",
        "\n",
        "train_Y = data.Sales.values \n",
        "train_Y = train_Y[:,np.newaxis]\n",
        "\n",
        "n_samples = train_X.shape[0]\n",
        "print n_samples\n",
        "print train_X.shape, train_Y.shape\n",
        "plt.plot(train_X, train_Y, 'ro', label='Original data')\n",
        "plt.show()"
      ],
      "execution_count": 3,
      "outputs": [
        {
          "output_type": "stream",
          "text": [
            "200\n",
            "(200, 1) (200, 1)\n"
          ],
          "name": "stdout"
        },
        {
          "output_type": "display_data",
          "data": {
            "image/png": "[encoded data removed]",
            "text/plain": [
              "<matplotlib.figure.Figure at 0x7f5ac30c5bd0>"
            ]
          },
          "metadata": {
            "tags": []
          }
        }
      ]
    },
    {
      "metadata": {
        "id": "fXYH9klJMWI9",
        "colab_type": "code",
        "colab": {
          "autoexec": {
            "startup": false,
            "wait_interval": 0
          },
          "base_uri": "https://localhost:8080/",
          "height": 17
        },
        "outputId": "f634340a-9f80-4969-fc4f-c97c63a9c2a1",
        "executionInfo": {
          "status": "ok",
          "timestamp": 1528878088344,
          "user_tz": -120,
          "elapsed": 1289,
          "user": {
            "displayName": "",
            "photoUrl": "",
            "userId": ""
          }
        }
      },
      "cell_type": "code",
      "source": [
        "import tensorflow as tf\n",
        "# Define tf Graph Inputs\n",
        "X = tf.placeholder(\"float\",[None,1])\n",
        "y = tf.placeholder(\"float\",[None,1])\n",
        "\n",
        "# Create Model variables \n",
        "# Set model weights\n",
        "W = tf.Variable(np.random.randn(), name=\"weight\")\n",
        "b = tf.Variable(np.random.randn(), name=\"bias\")\n",
        "\n",
        "# Construct a linear model\n",
        "y_pred = tf.add(tf.multiply(X, W), b)\n",
        "\n",
        "# Minimize the squared errors\n",
        "cost = tf.reduce_sum(tf.pow(y_pred-y,2))/(n_samples) #L2 loss\n",
        "\n",
        "# Define the optimizer\n",
        "optimizer = tf.train.AdamOptimizer(learning_rate).minimize(cost) #Gradient descent"
      ],
      "execution_count": 4,
      "outputs": []
    },
    {
      "metadata": {
        "id": "q1ugxGZhMWI_",
        "colab_type": "code",
        "colab": {
          "autoexec": {
            "startup": false,
            "wait_interval": 0
          },
          "base_uri": "https://localhost:8080/",
          "height": 540
        },
        "outputId": "86fb6734-bcfa-430b-cf89-b2e83e436150",
        "executionInfo": {
          "status": "ok",
          "timestamp": 1528878090275,
          "user_tz": -120,
          "elapsed": 1879,
          "user": {
            "displayName": "",
            "photoUrl": "",
            "userId": ""
          }
        }
      },
      "cell_type": "code",
      "source": [
        "# Initializing the variables\n",
        "init = tf.initialize_all_variables()\n",
        "# Launch the graph\n",
        "with tf.Session() as sess:\n",
        "    sess.run(init)\n",
        "\n",
        "    # Fit all training data\n",
        "    for epoch in range(training_epochs):\n",
        "        sess.run(optimizer, feed_dict={X: train_X, y: train_Y})       \n",
        "\n",
        "        #Display logs per epoch step\n",
        "        if epoch % display_step == 0:\n",
        "            print \"Epoch:\", '%04d' % (epoch+1), \"cost=\", \\\n",
        "                \"{:.9f}\".format(sess.run(cost, feed_dict={X: train_X, y:train_Y})), \\\n",
        "                \"W=\", sess.run(W), \"b=\", sess.run(b)\n",
        "\n",
        "    print \"Optimization Finished!\"\n",
        "    print \"cost=\", sess.run(cost, feed_dict={X: train_X, y: train_Y}), \\\n",
        "          \"W=\", sess.run(W), \"b=\", sess.run(b)\n",
        "\n",
        "    #Graphic display\n",
        "    plt.plot(train_X, train_Y, 'ro', label='Original data')\n",
        "    plt.plot(train_X, sess.run(W) * train_X + sess.run(b), label='Fitted line')\n",
        "    plt.legend()\n",
        "    plt.show()"
      ],
      "execution_count": 5,
      "outputs": [
        {
          "output_type": "stream",
          "text": [
            "WARNING:tensorflow:From /usr/local/lib/python2.7/dist-packages/tensorflow/python/util/tf_should_use.py:118: initialize_all_variables (from tensorflow.python.ops.variables) is deprecated and will be removed after 2017-03-02.\n",
            "Instructions for updating:\n",
            "Use `tf.global_variables_initializer` instead.\n",
            "Epoch: 0001 cost= 22815.419921875 W= -0.8040098 b= 0.008721881\n",
            "Epoch: 0201 cost= 17.526868820 W= 0.07429329 b= 1.7702215\n",
            "Epoch: 0401 cost= 14.376111984 W= 0.067403324 b= 3.1270704\n",
            "Epoch: 0601 cost= 12.220223427 W= 0.060744297 b= 4.4361405\n",
            "Epoch: 0801 cost= 11.125161171 W= 0.055446915 b= 5.4775357\n",
            "Epoch: 1001 cost= 10.690587044 W= 0.051800113 b= 6.1944485\n",
            "Epoch: 1201 cost= 10.554136276 W= 0.04959525 b= 6.6278973\n",
            "Epoch: 1401 cost= 10.520307541 W= 0.048420917 b= 6.8587565\n",
            "Epoch: 1601 cost= 10.513750076 W= 0.04787148 b= 6.966768\n",
            "Epoch: 1801 cost= 10.512773514 W= 0.047647186 b= 7.0108624\n",
            "Optimization Finished!\n",
            "cost= 10.512662 W= 0.047568247 b= 7.0263805\n"
          ],
          "name": "stdout"
        },
        {
          "output_type": "display_data",
          "data": {
            "image/png": "[encoded data removed]",
            "text/plain": [
              "<matplotlib.figure.Figure at 0x7f5ac0b95150>"
            ]
          },
          "metadata": {
            "tags": []
          }
        }
      ]
    },
    {
      "metadata": {
        "id": "IWFE0DscMWJC",
        "colab_type": "text"
      },
      "cell_type": "markdown",
      "source": [
        "### Multiple Linear Regression\n",
        "Let's use three features as input vector : TV,Radio,Newspaper"
      ]
    },
    {
      "metadata": {
        "id": "5hqjoRy0MWJC",
        "colab_type": "code",
        "colab": {
          "autoexec": {
            "startup": false,
            "wait_interval": 0
          },
          "base_uri": "https://localhost:8080/",
          "height": 17
        },
        "outputId": "8414841b-0ae6-46a0-d34b-e1237a801db2",
        "executionInfo": {
          "status": "ok",
          "timestamp": 1528878090839,
          "user_tz": -120,
          "elapsed": 551,
          "user": {
            "displayName": "",
            "photoUrl": "",
            "userId": ""
          }
        }
      },
      "cell_type": "code",
      "source": [
        "# Parameters\n",
        "learning_rate = 1e-2\n",
        "training_epochs = 2000\n",
        "display_step = 200"
      ],
      "execution_count": 6,
      "outputs": []
    },
    {
      "metadata": {
        "id": "nEOeXulQMWJE",
        "colab_type": "code",
        "colab": {
          "autoexec": {
            "startup": false,
            "wait_interval": 0
          },
          "base_uri": "https://localhost:8080/",
          "height": 51
        },
        "outputId": "d10b0d89-612e-4253-b1f8-a3fa26ff1c09",
        "executionInfo": {
          "status": "ok",
          "timestamp": 1528878091382,
          "user_tz": -120,
          "elapsed": 479,
          "user": {
            "displayName": "",
            "photoUrl": "",
            "userId": ""
          }
        }
      },
      "cell_type": "code",
      "source": [
        "import numpy as np\n",
        "data = pd.read_csv('https://raw.githubusercontent.com/DataScienceUB/DeepLearningfromScratch2017/master/dataset/Advertising.csv',index_col=0, delimiter=',')\n",
        "train_X = data[['TV','Radio','Newspaper']].values\n",
        "train_Y = data.Sales.values \n",
        "train_Y = train_Y[:,np.newaxis]\n",
        "n_samples = train_X.shape[0]\n",
        "print n_samples\n",
        "print train_X.shape, train_Y.shape\n"
      ],
      "execution_count": 7,
      "outputs": [
        {
          "output_type": "stream",
          "text": [
            "200\n",
            "(200, 3) (200, 1)\n"
          ],
          "name": "stdout"
        }
      ]
    },
    {
      "metadata": {
        "id": "Gp1MDEAJMWJH",
        "colab_type": "code",
        "colab": {
          "autoexec": {
            "startup": false,
            "wait_interval": 0
          },
          "base_uri": "https://localhost:8080/",
          "height": 17
        },
        "outputId": "a9b7bc97-69fc-4156-8439-9dc3bea94a96",
        "executionInfo": {
          "status": "ok",
          "timestamp": 1528878091921,
          "user_tz": -120,
          "elapsed": 495,
          "user": {
            "displayName": "",
            "photoUrl": "",
            "userId": ""
          }
        }
      },
      "cell_type": "code",
      "source": [
        "# Define tf Graph Inputs\n",
        "X = tf.placeholder(\"float\",[None,3])\n",
        "y = tf.placeholder(\"float\",[None,1])\n",
        "\n",
        "# Create Model variables \n",
        "# Set model weights\n",
        "W = tf.Variable(tf.zeros([3, 1]),name=\"bias\")\n",
        "b = tf.Variable(np.random.randn(), name=\"bias\")\n",
        "\n",
        "# Construct a linear model\n",
        "y_pred = tf.matmul(X, W) + b"
      ],
      "execution_count": 8,
      "outputs": []
    },
    {
      "metadata": {
        "id": "RHY--sUfMWJJ",
        "colab_type": "code",
        "colab": {
          "autoexec": {
            "startup": false,
            "wait_interval": 0
          },
          "base_uri": "https://localhost:8080/",
          "height": 17
        },
        "outputId": "a9fd0dc1-9f09-48ad-f7a7-03af67054f3e",
        "executionInfo": {
          "status": "ok",
          "timestamp": 1528878092460,
          "user_tz": -120,
          "elapsed": 468,
          "user": {
            "displayName": "",
            "photoUrl": "",
            "userId": ""
          }
        }
      },
      "cell_type": "code",
      "source": [
        "# Minimize the squared errors\n",
        "cost = tf.reduce_sum(tf.pow(y_pred-y,2))/(2*n_samples) #L2 loss\n",
        "\n",
        "# Define the optimizer\n",
        "optimizer = tf.train.AdamOptimizer(learning_rate).minimize(cost) #Gradient descent"
      ],
      "execution_count": 9,
      "outputs": []
    },
    {
      "metadata": {
        "id": "zUCPPqt7MWJM",
        "colab_type": "code",
        "colab": {
          "autoexec": {
            "startup": false,
            "wait_interval": 0
          },
          "base_uri": "https://localhost:8080/",
          "height": 595
        },
        "outputId": "b8c4a075-7737-47cd-cdb7-b49fa7ea86fe",
        "executionInfo": {
          "status": "ok",
          "timestamp": 1528878093818,
          "user_tz": -120,
          "elapsed": 1293,
          "user": {
            "displayName": "",
            "photoUrl": "",
            "userId": ""
          }
        }
      },
      "cell_type": "code",
      "source": [
        "# Initializing the variables\n",
        "init = tf.initialize_all_variables()\n",
        "# Launch the graph\n",
        "with tf.Session() as sess:\n",
        "    sess.run(init)\n",
        "\n",
        "    # Fit all training data\n",
        "    for epoch in range(training_epochs):\n",
        "        sess.run(optimizer, feed_dict={X: train_X, y: train_Y})\n",
        "        \n",
        "        #Display logs per epoch step\n",
        "        if epoch % display_step == 0:\n",
        "            print \"Epoch:\", '%04d' % (epoch+1), \"cost=\", \\\n",
        "                \"{:.9f}\".format(sess.run(cost, feed_dict={X: train_X, y:train_Y})), \\\n",
        "                \"W=\", sess.run(W), \"b=\", sess.run(b)\n",
        "\n",
        "    print \"Optimization Finished!\"\n",
        "    print \"cost=\", sess.run(cost, feed_dict={X: train_X, y: train_Y}), \\\n",
        "          \"W=\", sess.run(W), \"b=\", sess.run(b)\n",
        "    "
      ],
      "execution_count": 10,
      "outputs": [
        {
          "output_type": "stream",
          "text": [
            "Epoch: 0001 cost= 88.463981628 W= [[0.01]\n",
            " [0.01]\n",
            " [0.01]] b= -0.5303935\n",
            "Epoch: 0201 cost= 2.077085495 W= [[0.05410653]\n",
            " [0.22400723]\n",
            " [0.01751035]] b= -0.124288246\n",
            "Epoch: 0401 cost= 1.866683960 W= [[0.05270749]\n",
            " [0.21806543]\n",
            " [0.01439589]] b= 0.3891652\n",
            "Epoch: 0601 cost= 1.682526827 W= [[0.05119635]\n",
            " [0.21163084]\n",
            " [0.01103698]] b= 0.94424367\n",
            "Epoch: 0801 cost= 1.550532222 W= [[0.04977683]\n",
            " [0.20559067]\n",
            " [0.00788153]] b= 1.4655855\n",
            "Epoch: 1001 cost= 1.469081402 W= [[0.04856179]\n",
            " [0.20042284]\n",
            " [0.00518058]] b= 1.911779\n",
            "Epoch: 1201 cost= 1.425222278 W= [[0.04760002]\n",
            " [0.19633317]\n",
            " [0.00304258]] b= 2.264948\n",
            "Epoch: 1401 cost= 1.404602766 W= [[0.04689331]\n",
            " [0.19332844]\n",
            " [0.00147155]] b= 2.5244513\n",
            "Epoch: 1601 cost= 1.396184683 W= [[0.04641171]\n",
            " [0.19128092]\n",
            " [0.00040095]] b= 2.701293\n",
            "Epoch: 1801 cost= 1.393226147 W= [[ 0.04610837]\n",
            " [ 0.18999128]\n",
            " [-0.0002734 ]] b= 2.812679\n",
            "Optimization Finished!\n",
            "cost= 1.3923432 W= [[ 0.04593327]\n",
            " [ 0.1892469 ]\n",
            " [-0.00066264]] b= 2.8769717\n"
          ],
          "name": "stdout"
        }
      ]
    },
    {
      "metadata": {
        "id": "umIU80meMWJO",
        "colab_type": "code",
        "colab": {
          "autoexec": {
            "startup": false,
            "wait_interval": 0
          },
          "base_uri": "https://localhost:8080/",
          "height": 17
        },
        "outputId": "9a854920-cd33-421b-d22c-917fa9870a5a",
        "executionInfo": {
          "status": "ok",
          "timestamp": 1528878094351,
          "user_tz": -120,
          "elapsed": 519,
          "user": {
            "displayName": "",
            "photoUrl": "",
            "userId": ""
          }
        }
      },
      "cell_type": "code",
      "source": [
        ""
      ],
      "execution_count": 10,
      "outputs": []
    }
  ]
}