{
  "nbformat": 4,
  "nbformat_minor": 0,
  "metadata": {
    "colab": {
      "name": "4.1%20Convolutional%20Network.ipynb",
      "version": "0.3.2",
      "views": {},
      "default_view": {},
      "provenance": []
    },
    "kernelspec": {
      "display_name": "Python 2",
      "language": "python",
      "name": "python2"
    }
  },
  "cells": [
    {
      "metadata": {
        "id": "SNr1cq7SWEAT",
        "colab_type": "text"
      },
      "cell_type": "markdown",
      "source": [
        "# Convolution Network "
      ]
    },
    {
      "metadata": {
        "id": "jCeblau1WEAT",
        "colab_type": "code",
        "colab": {
          "autoexec": {
            "startup": false,
            "wait_interval": 0
          },
          "base_uri": "https://localhost:8080/",
          "height": 17
        },
        "outputId": "f4856e68-bb2a-4255-eca0-e67f4a14610b",
        "executionInfo": {
          "status": "ok",
          "timestamp": 1528879937158,
          "user_tz": -120,
          "elapsed": 5030,
          "user": {
            "displayName": "",
            "photoUrl": "",
            "userId": ""
          }
        }
      },
      "cell_type": "code",
      "source": [
        "# Adapted notebook from Author: Aymeric Damien\n",
        "# Project: https://github.com/aymericdamien/TensorFlow-Examples/"
      ],
      "execution_count": 1,
      "outputs": []
    },
    {
      "metadata": {
        "id": "f3bVGAiEWEAW",
        "colab_type": "code",
        "colab": {
          "autoexec": {
            "startup": false,
            "wait_interval": 0
          },
          "base_uri": "https://localhost:8080/",
          "height": 411
        },
        "outputId": "3221a145-39b9-466d-a4a7-73717d1c3e02",
        "executionInfo": {
          "status": "ok",
          "timestamp": 1528879940657,
          "user_tz": -120,
          "elapsed": 3080,
          "user": {
            "displayName": "",
            "photoUrl": "",
            "userId": ""
          }
        }
      },
      "cell_type": "code",
      "source": [
        "# Import MINST data\n",
        "from tensorflow.examples.tutorials.mnist import input_data\n",
        "mnist = input_data.read_data_sets(\"tmp/data/\", one_hot=True)"
      ],
      "execution_count": 2,
      "outputs": [
        {
          "output_type": "stream",
          "text": [
            "WARNING:tensorflow:From <ipython-input-2-4de56eb9035a>:2: read_data_sets (from tensorflow.contrib.learn.python.learn.datasets.mnist) is deprecated and will be removed in a future version.\n",
            "Instructions for updating:\n",
            "Please use alternatives such as official/mnist/dataset.py from tensorflow/models.\n",
            "WARNING:tensorflow:From /usr/local/lib/python2.7/dist-packages/tensorflow/contrib/learn/python/learn/datasets/mnist.py:260: maybe_download (from tensorflow.contrib.learn.python.learn.datasets.base) is deprecated and will be removed in a future version.\n",
            "Instructions for updating:\n",
            "Please write your own downloading logic.\n",
            "WARNING:tensorflow:From /usr/local/lib/python2.7/dist-packages/tensorflow/contrib/learn/python/learn/datasets/mnist.py:262: extract_images (from tensorflow.contrib.learn.python.learn.datasets.mnist) is deprecated and will be removed in a future version.\n",
            "Instructions for updating:\n",
            "Please use tf.data to implement this functionality.\n",
            "Extracting tmp/data/train-images-idx3-ubyte.gz\n",
            "WARNING:tensorflow:From /usr/local/lib/python2.7/dist-packages/tensorflow/contrib/learn/python/learn/datasets/mnist.py:267: extract_labels (from tensorflow.contrib.learn.python.learn.datasets.mnist) is deprecated and will be removed in a future version.\n",
            "Instructions for updating:\n",
            "Please use tf.data to implement this functionality.\n",
            "Extracting tmp/data/train-labels-idx1-ubyte.gz\n",
            "WARNING:tensorflow:From /usr/local/lib/python2.7/dist-packages/tensorflow/contrib/learn/python/learn/datasets/mnist.py:110: dense_to_one_hot (from tensorflow.contrib.learn.python.learn.datasets.mnist) is deprecated and will be removed in a future version.\n",
            "Instructions for updating:\n",
            "Please use tf.one_hot on tensors.\n",
            "Extracting tmp/data/t10k-images-idx3-ubyte.gz\n",
            "Extracting tmp/data/t10k-labels-idx1-ubyte.gz\n",
            "WARNING:tensorflow:From /usr/local/lib/python2.7/dist-packages/tensorflow/contrib/learn/python/learn/datasets/mnist.py:290: __init__ (from tensorflow.contrib.learn.python.learn.datasets.mnist) is deprecated and will be removed in a future version.\n",
            "Instructions for updating:\n",
            "Please use alternatives such as official/mnist/dataset.py from tensorflow/models.\n"
          ],
          "name": "stdout"
        }
      ]
    },
    {
      "metadata": {
        "id": "dgMkG9zlWEAZ",
        "colab_type": "code",
        "colab": {
          "autoexec": {
            "startup": false,
            "wait_interval": 0
          },
          "base_uri": "https://localhost:8080/",
          "height": 17
        },
        "outputId": "758b72fd-b766-4b1b-e42c-e4ac4d1df6ed",
        "executionInfo": {
          "status": "ok",
          "timestamp": 1528879941192,
          "user_tz": -120,
          "elapsed": 520,
          "user": {
            "displayName": "",
            "photoUrl": "",
            "userId": ""
          }
        }
      },
      "cell_type": "code",
      "source": [
        "import tensorflow as tf"
      ],
      "execution_count": 3,
      "outputs": []
    },
    {
      "metadata": {
        "id": "hbr5qPdnWEAb",
        "colab_type": "code",
        "colab": {
          "autoexec": {
            "startup": false,
            "wait_interval": 0
          },
          "base_uri": "https://localhost:8080/",
          "height": 17
        },
        "outputId": "035c0990-dbbb-48c3-e91a-2b17755ceabe",
        "executionInfo": {
          "status": "ok",
          "timestamp": 1528879941779,
          "user_tz": -120,
          "elapsed": 529,
          "user": {
            "displayName": "",
            "photoUrl": "",
            "userId": ""
          }
        }
      },
      "cell_type": "code",
      "source": [
        "# Parameters\n",
        "learning_rate = 0.001\n",
        "training_iters = 100000\n",
        "batch_size = 128\n",
        "display_step = 20"
      ],
      "execution_count": 4,
      "outputs": []
    },
    {
      "metadata": {
        "id": "mq53AdTHWEAd",
        "colab_type": "code",
        "colab": {
          "autoexec": {
            "startup": false,
            "wait_interval": 0
          },
          "base_uri": "https://localhost:8080/",
          "height": 17
        },
        "outputId": "21c12d5d-b589-4404-ad28-deb1ddd6efc4",
        "executionInfo": {
          "status": "ok",
          "timestamp": 1528879942399,
          "user_tz": -120,
          "elapsed": 574,
          "user": {
            "displayName": "",
            "photoUrl": "",
            "userId": ""
          }
        }
      },
      "cell_type": "code",
      "source": [
        "# Network Parameters\n",
        "n_input = 784 # MNIST data input (img shape: 28*28)\n",
        "n_classes = 10 # MNIST total classes (0-9 digits)\n",
        "dropout = 0.75 # Dropout, probability to keep units"
      ],
      "execution_count": 5,
      "outputs": []
    },
    {
      "metadata": {
        "id": "reNC0xmQWEAg",
        "colab_type": "code",
        "colab": {
          "autoexec": {
            "startup": false,
            "wait_interval": 0
          },
          "base_uri": "https://localhost:8080/",
          "height": 17
        },
        "outputId": "84f2b1aa-6860-41e5-d7f1-faf2f5b71561",
        "executionInfo": {
          "status": "ok",
          "timestamp": 1528879942969,
          "user_tz": -120,
          "elapsed": 524,
          "user": {
            "displayName": "",
            "photoUrl": "",
            "userId": ""
          }
        }
      },
      "cell_type": "code",
      "source": [
        "# tf Graph input\n",
        "x = tf.placeholder(tf.float32, [None, n_input])\n",
        "y = tf.placeholder(tf.float32, [None, n_classes])\n",
        "keep_prob = tf.placeholder(tf.float32) #dropout (keep probability)"
      ],
      "execution_count": 6,
      "outputs": []
    },
    {
      "metadata": {
        "id": "Vq0d7ZQbWEAj",
        "colab_type": "code",
        "colab": {
          "autoexec": {
            "startup": false,
            "wait_interval": 0
          },
          "base_uri": "https://localhost:8080/",
          "height": 17
        },
        "outputId": "6d00c378-09a0-45d5-b05a-da68944f985d",
        "executionInfo": {
          "status": "ok",
          "timestamp": 1528879943540,
          "user_tz": -120,
          "elapsed": 527,
          "user": {
            "displayName": "",
            "photoUrl": "",
            "userId": ""
          }
        }
      },
      "cell_type": "code",
      "source": [
        "# Create model\n",
        "def conv2d(img, w, b):\n",
        "    return tf.nn.relu(tf.nn.bias_add(tf.nn.conv2d(img, w, strides=[1, 1, 1, 1], \n",
        "                                                  padding='SAME'),b))\n",
        "\n",
        "def max_pool(img, k):\n",
        "    return tf.nn.max_pool(img, ksize=[1, k, k, 1], strides=[1, k, k, 1], padding='SAME')\n",
        "\n",
        "def conv_net(_X, _weights, _biases, _dropout):\n",
        "    # Reshape input picture\n",
        "    _X = tf.reshape(_X, shape=[-1, 28, 28, 1])\n",
        "\n",
        "    # Convolution Layer\n",
        "    conv1 = conv2d(_X, _weights['wc1'], _biases['bc1'])\n",
        "    # Max Pooling (down-sampling)\n",
        "    conv1 = max_pool(conv1, k=2)\n",
        "    # Apply Dropout\n",
        "    conv1 = tf.nn.dropout(conv1, _dropout)\n",
        "\n",
        "    # Convolution Layer\n",
        "    conv2 = conv2d(conv1, _weights['wc2'], _biases['bc2'])\n",
        "    # Max Pooling (down-sampling)\n",
        "    conv2 = max_pool(conv2, k=2)\n",
        "    # Apply Dropout\n",
        "    conv2 = tf.nn.dropout(conv2, _dropout)\n",
        "\n",
        "    # Fully connected layer\n",
        "    # Reshape conv2 output to fit dense layer input\n",
        "    dense1 = tf.reshape(conv2, [-1, _weights['wd1'].get_shape().as_list()[0]]) \n",
        "    # Relu activation\n",
        "    dense1 = tf.nn.relu(tf.add(tf.matmul(dense1, _weights['wd1']), _biases['bd1']))\n",
        "    # Apply Dropout\n",
        "    dense1 = tf.nn.dropout(dense1, _dropout) # Apply Dropout\n",
        "\n",
        "    # Output, class prediction\n",
        "    out = tf.add(tf.matmul(dense1, _weights['out']), _biases['out'])\n",
        "    return out"
      ],
      "execution_count": 7,
      "outputs": []
    },
    {
      "metadata": {
        "id": "w1kTc151WEAm",
        "colab_type": "code",
        "colab": {
          "autoexec": {
            "startup": false,
            "wait_interval": 0
          },
          "base_uri": "https://localhost:8080/",
          "height": 17
        },
        "outputId": "8cdc08e6-1e00-4f2e-a4da-78158d01eb2b",
        "executionInfo": {
          "status": "ok",
          "timestamp": 1528879944070,
          "user_tz": -120,
          "elapsed": 485,
          "user": {
            "displayName": "",
            "photoUrl": "",
            "userId": ""
          }
        }
      },
      "cell_type": "code",
      "source": [
        "# Store layers weight & bias\n",
        "weights = {\n",
        "    # 5x5 conv, 1 input, 32 outputs\n",
        "    'wc1': tf.Variable(tf.random_normal([5, 5, 1, 32])), \n",
        "    # 5x5 conv, 32 inputs, 64 outputs\n",
        "    'wc2': tf.Variable(tf.random_normal([5, 5, 32, 64])), \n",
        "    # fully connected, 7*7*64 inputs, 1024 outputs\n",
        "    'wd1': tf.Variable(tf.random_normal([7*7*64, 1024])), \n",
        "    # 1024 inputs, 10 outputs (class prediction)\n",
        "    'out': tf.Variable(tf.random_normal([1024, n_classes])) \n",
        "}\n",
        "\n",
        "biases = {\n",
        "    'bc1': tf.Variable(tf.random_normal([32])),\n",
        "    'bc2': tf.Variable(tf.random_normal([64])),\n",
        "    'bd1': tf.Variable(tf.random_normal([1024])),\n",
        "    'out': tf.Variable(tf.random_normal([n_classes]))\n",
        "}"
      ],
      "execution_count": 8,
      "outputs": []
    },
    {
      "metadata": {
        "id": "ZkxYHRelWEAo",
        "colab_type": "code",
        "colab": {
          "autoexec": {
            "startup": false,
            "wait_interval": 0
          },
          "base_uri": "https://localhost:8080/",
          "height": 17
        },
        "outputId": "56b60b5a-f968-44ed-dced-ae438c56f9f0",
        "executionInfo": {
          "status": "ok",
          "timestamp": 1528879944882,
          "user_tz": -120,
          "elapsed": 768,
          "user": {
            "displayName": "",
            "photoUrl": "",
            "userId": ""
          }
        }
      },
      "cell_type": "code",
      "source": [
        "# Construct model\n",
        "pred = conv_net(x, weights, biases, keep_prob)"
      ],
      "execution_count": 9,
      "outputs": []
    },
    {
      "metadata": {
        "id": "VX2LTNpfWEAp",
        "colab_type": "code",
        "colab": {
          "autoexec": {
            "startup": false,
            "wait_interval": 0
          },
          "base_uri": "https://localhost:8080/",
          "height": 17
        },
        "outputId": "42a4475f-5b93-4df6-d577-500ef304ebfc",
        "executionInfo": {
          "status": "ok",
          "timestamp": 1528879959358,
          "user_tz": -120,
          "elapsed": 845,
          "user": {
            "displayName": "",
            "photoUrl": "",
            "userId": ""
          }
        }
      },
      "cell_type": "code",
      "source": [
        "# Define loss and optimizer\n",
        "cost = tf.reduce_mean(tf.nn.softmax_cross_entropy_with_logits(logits=pred, labels=y))\n",
        "optimizer = tf.train.AdamOptimizer(learning_rate=learning_rate).minimize(cost)"
      ],
      "execution_count": 11,
      "outputs": []
    },
    {
      "metadata": {
        "id": "ag0L9MAvWEAr",
        "colab_type": "code",
        "colab": {
          "autoexec": {
            "startup": false,
            "wait_interval": 0
          },
          "base_uri": "https://localhost:8080/",
          "height": 17
        },
        "outputId": "bdc0139f-344b-422f-abc9-990ec4497470",
        "executionInfo": {
          "status": "ok",
          "timestamp": 1528879963661,
          "user_tz": -120,
          "elapsed": 738,
          "user": {
            "displayName": "",
            "photoUrl": "",
            "userId": ""
          }
        }
      },
      "cell_type": "code",
      "source": [
        "# Evaluate model\n",
        "correct_pred = tf.equal(tf.argmax(pred,1), tf.argmax(y,1))\n",
        "accuracy = tf.reduce_mean(tf.cast(correct_pred, tf.float32))"
      ],
      "execution_count": 12,
      "outputs": []
    },
    {
      "metadata": {
        "id": "pFtMwyoOWEAt",
        "colab_type": "code",
        "colab": {
          "autoexec": {
            "startup": false,
            "wait_interval": 0
          },
          "base_uri": "https://localhost:8080/",
          "height": 88
        },
        "outputId": "cecd30a6-91ce-441c-c2e8-a640d6e644cd",
        "executionInfo": {
          "status": "ok",
          "timestamp": 1528879964283,
          "user_tz": -120,
          "elapsed": 569,
          "user": {
            "displayName": "",
            "photoUrl": "",
            "userId": ""
          }
        }
      },
      "cell_type": "code",
      "source": [
        "# Initializing the variables\n",
        "init = tf.initialize_all_variables()"
      ],
      "execution_count": 13,
      "outputs": [
        {
          "output_type": "stream",
          "text": [
            "WARNING:tensorflow:From /usr/local/lib/python2.7/dist-packages/tensorflow/python/util/tf_should_use.py:118: initialize_all_variables (from tensorflow.python.ops.variables) is deprecated and will be removed after 2017-03-02.\n",
            "Instructions for updating:\n",
            "Use `tf.global_variables_initializer` instead.\n"
          ],
          "name": "stdout"
        }
      ]
    },
    {
      "metadata": {
        "id": "5Y8zr2H0WEAu",
        "colab_type": "code",
        "colab": {
          "autoexec": {
            "startup": false,
            "wait_interval": 0
          },
          "base_uri": "https://localhost:8080/",
          "height": 714
        },
        "outputId": "f074d817-61c3-4a18-ba8f-5a6cad70d1ed",
        "executionInfo": {
          "status": "ok",
          "timestamp": 1528880284202,
          "user_tz": -120,
          "elapsed": 319860,
          "user": {
            "displayName": "",
            "photoUrl": "",
            "userId": ""
          }
        }
      },
      "cell_type": "code",
      "source": [
        "# Launch the graph\n",
        "with tf.Session() as sess:\n",
        "    sess.run(init)\n",
        "    step = 1\n",
        "    # Keep training until reach max iterations\n",
        "    while step * batch_size < training_iters:\n",
        "        batch_xs, batch_ys = mnist.train.next_batch(batch_size)\n",
        "        # Fit training using batch data\n",
        "        sess.run(optimizer, feed_dict={x: batch_xs, y: batch_ys, keep_prob: dropout})\n",
        "        if step % display_step == 0:\n",
        "            # Calculate batch accuracy\n",
        "            acc = sess.run(accuracy, feed_dict={x: batch_xs, y: batch_ys, keep_prob: 1.})\n",
        "            # Calculate batch loss\n",
        "            loss = sess.run(cost, feed_dict={x: batch_xs, y: batch_ys, keep_prob: 1.})\n",
        "            print \"Iter \" + str(step*batch_size) + \", Minibatch Loss= \" + \\\n",
        "                  \"{:.6f}\".format(loss) + \", Training Accuracy= \" + \"{:.5f}\".format(acc)\n",
        "        step += 1\n",
        "    print \"Optimization Finished!\"\n",
        "    # Calculate accuracy for 256 mnist test images\n",
        "    print \"Testing Accuracy:\", sess.run(accuracy, feed_dict={x: mnist.test.images[:256], \n",
        "                                                             y: mnist.test.labels[:256], \n",
        "                                                             keep_prob: 1.})"
      ],
      "execution_count": 14,
      "outputs": [
        {
          "output_type": "stream",
          "text": [
            "Iter 2560, Minibatch Loss= 17036.421875, Training Accuracy= 0.23438\n",
            "Iter 5120, Minibatch Loss= 6130.323242, Training Accuracy= 0.57812\n",
            "Iter 7680, Minibatch Loss= 5917.083008, Training Accuracy= 0.63281\n",
            "Iter 10240, Minibatch Loss= 2962.674805, Training Accuracy= 0.80469\n",
            "Iter 12800, Minibatch Loss= 1724.221191, Training Accuracy= 0.85938\n",
            "Iter 15360, Minibatch Loss= 3856.745361, Training Accuracy= 0.78906\n",
            "Iter 17920, Minibatch Loss= 2472.348877, Training Accuracy= 0.78125\n",
            "Iter 20480, Minibatch Loss= 2858.114014, Training Accuracy= 0.82812\n",
            "Iter 23040, Minibatch Loss= 2357.305664, Training Accuracy= 0.85938\n",
            "Iter 25600, Minibatch Loss= 3318.317139, Training Accuracy= 0.78125\n",
            "Iter 28160, Minibatch Loss= 1114.010620, Training Accuracy= 0.89062\n",
            "Iter 30720, Minibatch Loss= 1597.208008, Training Accuracy= 0.85156\n",
            "Iter 33280, Minibatch Loss= 1210.070923, Training Accuracy= 0.89062\n",
            "Iter 35840, Minibatch Loss= 777.603394, Training Accuracy= 0.91406\n",
            "Iter 38400, Minibatch Loss= 1670.858276, Training Accuracy= 0.89062\n",
            "Iter 40960, Minibatch Loss= 1385.604248, Training Accuracy= 0.82031\n",
            "Iter 43520, Minibatch Loss= 1204.731445, Training Accuracy= 0.88281\n",
            "Iter 46080, Minibatch Loss= 919.055481, Training Accuracy= 0.86719\n",
            "Iter 48640, Minibatch Loss= 1194.326172, Training Accuracy= 0.85938\n",
            "Iter 51200, Minibatch Loss= 1063.298828, Training Accuracy= 0.85938\n",
            "Iter 53760, Minibatch Loss= 973.690186, Training Accuracy= 0.88281\n",
            "Iter 56320, Minibatch Loss= 1144.928711, Training Accuracy= 0.89062\n",
            "Iter 58880, Minibatch Loss= 1131.631836, Training Accuracy= 0.90625\n",
            "Iter 61440, Minibatch Loss= 480.738403, Training Accuracy= 0.91406\n",
            "Iter 64000, Minibatch Loss= 1000.880188, Training Accuracy= 0.89844\n",
            "Iter 66560, Minibatch Loss= 379.635132, Training Accuracy= 0.91406\n",
            "Iter 69120, Minibatch Loss= 1170.406250, Training Accuracy= 0.83594\n",
            "Iter 71680, Minibatch Loss= 771.277283, Training Accuracy= 0.87500\n",
            "Iter 74240, Minibatch Loss= 1076.690674, Training Accuracy= 0.85156\n",
            "Iter 76800, Minibatch Loss= 495.006317, Training Accuracy= 0.90625\n",
            "Iter 79360, Minibatch Loss= 503.262970, Training Accuracy= 0.91406\n",
            "Iter 81920, Minibatch Loss= 982.506836, Training Accuracy= 0.89844\n",
            "Iter 84480, Minibatch Loss= 520.058289, Training Accuracy= 0.92188\n",
            "Iter 87040, Minibatch Loss= 468.711914, Training Accuracy= 0.89844\n",
            "Iter 89600, Minibatch Loss= 432.374664, Training Accuracy= 0.89844\n",
            "Iter 92160, Minibatch Loss= 310.926025, Training Accuracy= 0.91406\n",
            "Iter 94720, Minibatch Loss= 699.337769, Training Accuracy= 0.92188\n",
            "Iter 97280, Minibatch Loss= 295.681152, Training Accuracy= 0.94531\n",
            "Iter 99840, Minibatch Loss= 501.457764, Training Accuracy= 0.91406\n",
            "Optimization Finished!\n",
            "Testing Accuracy: 0.9453125\n"
          ],
          "name": "stdout"
        }
      ]
    },
    {
      "metadata": {
        "id": "teBrJdKpWEAx",
        "colab_type": "code",
        "colab": {
          "autoexec": {
            "startup": false,
            "wait_interval": 0
          }
        }
      },
      "cell_type": "code",
      "source": [
        ""
      ],
      "execution_count": 0,
      "outputs": []
    }
  ]
}